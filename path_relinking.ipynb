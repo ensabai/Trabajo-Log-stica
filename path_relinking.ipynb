{
 "cells": [
  {
   "cell_type": "markdown",
   "id": "2eecb115",
   "metadata": {},
   "source": [
    "# Implementación Path Relinking\n",
    "---"
   ]
  },
  {
   "cell_type": "code",
   "execution_count": 108,
   "id": "61bb7cf2",
   "metadata": {},
   "outputs": [],
   "source": [
    "from structure import instance, solution\n",
    "from algorithms import grasp\n",
    "from structure.solution import evaluate\n",
    "from copy import deepcopy\n",
    "from path_relinking import pathRelinking\n",
    "import pandas as pd\n",
    "import random\n",
    "import os"
   ]
  },
  {
   "cell_type": "code",
   "execution_count": 109,
   "id": "cf41a7af",
   "metadata": {},
   "outputs": [],
   "source": [
    "path = \"instances/MDG-a_12_100_m10.txt\"\n",
    "inst = instance.readInstance(path)\n",
    "sol, conjunto_soluciones, tiempo_final_grasp = grasp.execute(inst, 1, 0.1)"
   ]
  },
  {
   "cell_type": "code",
   "execution_count": 110,
   "id": "540ce189",
   "metadata": {},
   "outputs": [
    {
     "name": "stdout",
     "output_type": "stream",
     "text": [
      "128\n"
     ]
    }
   ],
   "source": [
    "conjunto_soluciones_pd = pd.DataFrame(conjunto_soluciones)\n",
    "print(len(conjunto_soluciones_pd))\n",
    "conjunto_soluciones_pd = conjunto_soluciones_pd.drop_duplicates(\"sol\")"
   ]
  },
  {
   "cell_type": "code",
   "execution_count": 111,
   "id": "37bdaec0",
   "metadata": {},
   "outputs": [
    {
     "data": {
      "text/html": [
       "<div>\n",
       "<style scoped>\n",
       "    .dataframe tbody tr th:only-of-type {\n",
       "        vertical-align: middle;\n",
       "    }\n",
       "\n",
       "    .dataframe tbody tr th {\n",
       "        vertical-align: top;\n",
       "    }\n",
       "\n",
       "    .dataframe thead th {\n",
       "        text-align: right;\n",
       "    }\n",
       "</style>\n",
       "<table border=\"1\" class=\"dataframe\">\n",
       "  <thead>\n",
       "    <tr style=\"text-align: right;\">\n",
       "      <th></th>\n",
       "      <th>instance</th>\n",
       "      <th>sol</th>\n",
       "      <th>of</th>\n",
       "    </tr>\n",
       "  </thead>\n",
       "  <tbody>\n",
       "    <tr>\n",
       "      <th>1</th>\n",
       "      <td>{'n': 100, 'p': 10, 'd': [[0, 8.22, 8.64, 0.75...</td>\n",
       "      <td>{64, 96, 13, 15, 51, 20, 86, 55, 59, 93}</td>\n",
       "      <td>354.25</td>\n",
       "    </tr>\n",
       "    <tr>\n",
       "      <th>60</th>\n",
       "      <td>{'n': 100, 'p': 10, 'd': [[0, 8.22, 8.64, 0.75...</td>\n",
       "      <td>{98, 2, 90, 37, 59, 12, 20, 26, 91, 63}</td>\n",
       "      <td>351.82</td>\n",
       "    </tr>\n",
       "    <tr>\n",
       "      <th>102</th>\n",
       "      <td>{'n': 100, 'p': 10, 'd': [[0, 8.22, 8.64, 0.75...</td>\n",
       "      <td>{64, 70, 43, 79, 16, 20, 86, 59, 60, 93}</td>\n",
       "      <td>350.18</td>\n",
       "    </tr>\n",
       "    <tr>\n",
       "      <th>20</th>\n",
       "      <td>{'n': 100, 'p': 10, 'd': [[0, 8.22, 8.64, 0.75...</td>\n",
       "      <td>{5, 70, 39, 8, 74, 43, 14, 79, 17, 60}</td>\n",
       "      <td>349.53</td>\n",
       "    </tr>\n",
       "    <tr>\n",
       "      <th>43</th>\n",
       "      <td>{'n': 100, 'p': 10, 'd': [[0, 8.22, 8.64, 0.75...</td>\n",
       "      <td>{98, 5, 38, 39, 43, 77, 88, 60, 61, 62}</td>\n",
       "      <td>348.67</td>\n",
       "    </tr>\n",
       "    <tr>\n",
       "      <th>...</th>\n",
       "      <td>...</td>\n",
       "      <td>...</td>\n",
       "      <td>...</td>\n",
       "    </tr>\n",
       "    <tr>\n",
       "      <th>113</th>\n",
       "      <td>{'n': 100, 'p': 10, 'd': [[0, 8.22, 8.64, 0.75...</td>\n",
       "      <td>{1, 4, 70, 8, 79, 83, 21, 23, 58, 95}</td>\n",
       "      <td>324.88</td>\n",
       "    </tr>\n",
       "    <tr>\n",
       "      <th>70</th>\n",
       "      <td>{'n': 100, 'p': 10, 'd': [[0, 8.22, 8.64, 0.75...</td>\n",
       "      <td>{5, 73, 41, 28, 18, 22, 25, 26, 59, 60}</td>\n",
       "      <td>324.78</td>\n",
       "    </tr>\n",
       "    <tr>\n",
       "      <th>62</th>\n",
       "      <td>{'n': 100, 'p': 10, 'd': [[0, 8.22, 8.64, 0.75...</td>\n",
       "      <td>{67, 3, 73, 11, 46, 84, 22, 94, 26, 30}</td>\n",
       "      <td>323.47</td>\n",
       "    </tr>\n",
       "    <tr>\n",
       "      <th>22</th>\n",
       "      <td>{'n': 100, 'p': 10, 'd': [[0, 8.22, 8.64, 0.75...</td>\n",
       "      <td>{36, 7, 71, 75, 45, 78, 14, 21, 24, 31}</td>\n",
       "      <td>322.16</td>\n",
       "    </tr>\n",
       "    <tr>\n",
       "      <th>2</th>\n",
       "      <td>{'n': 100, 'p': 10, 'd': [[0, 8.22, 8.64, 0.75...</td>\n",
       "      <td>{0, 66, 36, 71, 72, 14, 78, 17, 24, 94}</td>\n",
       "      <td>321.08</td>\n",
       "    </tr>\n",
       "  </tbody>\n",
       "</table>\n",
       "<p>102 rows × 3 columns</p>\n",
       "</div>"
      ],
      "text/plain": [
       "                                              instance  \\\n",
       "1    {'n': 100, 'p': 10, 'd': [[0, 8.22, 8.64, 0.75...   \n",
       "60   {'n': 100, 'p': 10, 'd': [[0, 8.22, 8.64, 0.75...   \n",
       "102  {'n': 100, 'p': 10, 'd': [[0, 8.22, 8.64, 0.75...   \n",
       "20   {'n': 100, 'p': 10, 'd': [[0, 8.22, 8.64, 0.75...   \n",
       "43   {'n': 100, 'p': 10, 'd': [[0, 8.22, 8.64, 0.75...   \n",
       "..                                                 ...   \n",
       "113  {'n': 100, 'p': 10, 'd': [[0, 8.22, 8.64, 0.75...   \n",
       "70   {'n': 100, 'p': 10, 'd': [[0, 8.22, 8.64, 0.75...   \n",
       "62   {'n': 100, 'p': 10, 'd': [[0, 8.22, 8.64, 0.75...   \n",
       "22   {'n': 100, 'p': 10, 'd': [[0, 8.22, 8.64, 0.75...   \n",
       "2    {'n': 100, 'p': 10, 'd': [[0, 8.22, 8.64, 0.75...   \n",
       "\n",
       "                                          sol      of  \n",
       "1    {64, 96, 13, 15, 51, 20, 86, 55, 59, 93}  354.25  \n",
       "60    {98, 2, 90, 37, 59, 12, 20, 26, 91, 63}  351.82  \n",
       "102  {64, 70, 43, 79, 16, 20, 86, 59, 60, 93}  350.18  \n",
       "20     {5, 70, 39, 8, 74, 43, 14, 79, 17, 60}  349.53  \n",
       "43    {98, 5, 38, 39, 43, 77, 88, 60, 61, 62}  348.67  \n",
       "..                                        ...     ...  \n",
       "113     {1, 4, 70, 8, 79, 83, 21, 23, 58, 95}  324.88  \n",
       "70    {5, 73, 41, 28, 18, 22, 25, 26, 59, 60}  324.78  \n",
       "62    {67, 3, 73, 11, 46, 84, 22, 94, 26, 30}  323.47  \n",
       "22    {36, 7, 71, 75, 45, 78, 14, 21, 24, 31}  322.16  \n",
       "2     {0, 66, 36, 71, 72, 14, 78, 17, 24, 94}  321.08  \n",
       "\n",
       "[102 rows x 3 columns]"
      ]
     },
     "execution_count": 111,
     "metadata": {},
     "output_type": "execute_result"
    }
   ],
   "source": [
    "conjunto_soluciones_pd.sort_values(\"of\", ascending=False)"
   ]
  },
  {
   "cell_type": "code",
   "execution_count": 112,
   "id": "1be152ce",
   "metadata": {},
   "outputs": [
    {
     "data": {
      "text/html": [
       "<div>\n",
       "<style scoped>\n",
       "    .dataframe tbody tr th:only-of-type {\n",
       "        vertical-align: middle;\n",
       "    }\n",
       "\n",
       "    .dataframe tbody tr th {\n",
       "        vertical-align: top;\n",
       "    }\n",
       "\n",
       "    .dataframe thead th {\n",
       "        text-align: right;\n",
       "    }\n",
       "</style>\n",
       "<table border=\"1\" class=\"dataframe\">\n",
       "  <thead>\n",
       "    <tr style=\"text-align: right;\">\n",
       "      <th></th>\n",
       "      <th>instance</th>\n",
       "      <th>sol</th>\n",
       "      <th>of</th>\n",
       "      <th>n_distintos</th>\n",
       "    </tr>\n",
       "  </thead>\n",
       "  <tbody>\n",
       "    <tr>\n",
       "      <th>60</th>\n",
       "      <td>{'n': 100, 'p': 10, 'd': [[0, 8.22, 8.64, 0.75...</td>\n",
       "      <td>{98, 2, 90, 37, 59, 12, 20, 26, 91, 63}</td>\n",
       "      <td>351.82</td>\n",
       "      <td>8</td>\n",
       "    </tr>\n",
       "    <tr>\n",
       "      <th>102</th>\n",
       "      <td>{'n': 100, 'p': 10, 'd': [[0, 8.22, 8.64, 0.75...</td>\n",
       "      <td>{64, 70, 43, 79, 16, 20, 86, 59, 60, 93}</td>\n",
       "      <td>350.18</td>\n",
       "      <td>5</td>\n",
       "    </tr>\n",
       "    <tr>\n",
       "      <th>20</th>\n",
       "      <td>{'n': 100, 'p': 10, 'd': [[0, 8.22, 8.64, 0.75...</td>\n",
       "      <td>{5, 70, 39, 8, 74, 43, 14, 79, 17, 60}</td>\n",
       "      <td>349.53</td>\n",
       "      <td>10</td>\n",
       "    </tr>\n",
       "    <tr>\n",
       "      <th>43</th>\n",
       "      <td>{'n': 100, 'p': 10, 'd': [[0, 8.22, 8.64, 0.75...</td>\n",
       "      <td>{98, 5, 38, 39, 43, 77, 88, 60, 61, 62}</td>\n",
       "      <td>348.67</td>\n",
       "      <td>10</td>\n",
       "    </tr>\n",
       "    <tr>\n",
       "      <th>10</th>\n",
       "      <td>{'n': 100, 'p': 10, 'd': [[0, 8.22, 8.64, 0.75...</td>\n",
       "      <td>{98, 2, 37, 59, 12, 15, 20, 89, 91, 93}</td>\n",
       "      <td>348.22</td>\n",
       "      <td>6</td>\n",
       "    </tr>\n",
       "    <tr>\n",
       "      <th>...</th>\n",
       "      <td>...</td>\n",
       "      <td>...</td>\n",
       "      <td>...</td>\n",
       "      <td>...</td>\n",
       "    </tr>\n",
       "    <tr>\n",
       "      <th>113</th>\n",
       "      <td>{'n': 100, 'p': 10, 'd': [[0, 8.22, 8.64, 0.75...</td>\n",
       "      <td>{1, 4, 70, 8, 79, 83, 21, 23, 58, 95}</td>\n",
       "      <td>324.88</td>\n",
       "      <td>10</td>\n",
       "    </tr>\n",
       "    <tr>\n",
       "      <th>70</th>\n",
       "      <td>{'n': 100, 'p': 10, 'd': [[0, 8.22, 8.64, 0.75...</td>\n",
       "      <td>{5, 73, 41, 28, 18, 22, 25, 26, 59, 60}</td>\n",
       "      <td>324.78</td>\n",
       "      <td>9</td>\n",
       "    </tr>\n",
       "    <tr>\n",
       "      <th>62</th>\n",
       "      <td>{'n': 100, 'p': 10, 'd': [[0, 8.22, 8.64, 0.75...</td>\n",
       "      <td>{67, 3, 73, 11, 46, 84, 22, 94, 26, 30}</td>\n",
       "      <td>323.47</td>\n",
       "      <td>10</td>\n",
       "    </tr>\n",
       "    <tr>\n",
       "      <th>22</th>\n",
       "      <td>{'n': 100, 'p': 10, 'd': [[0, 8.22, 8.64, 0.75...</td>\n",
       "      <td>{36, 7, 71, 75, 45, 78, 14, 21, 24, 31}</td>\n",
       "      <td>322.16</td>\n",
       "      <td>10</td>\n",
       "    </tr>\n",
       "    <tr>\n",
       "      <th>2</th>\n",
       "      <td>{'n': 100, 'p': 10, 'd': [[0, 8.22, 8.64, 0.75...</td>\n",
       "      <td>{0, 66, 36, 71, 72, 14, 78, 17, 24, 94}</td>\n",
       "      <td>321.08</td>\n",
       "      <td>10</td>\n",
       "    </tr>\n",
       "  </tbody>\n",
       "</table>\n",
       "<p>101 rows × 4 columns</p>\n",
       "</div>"
      ],
      "text/plain": [
       "                                              instance  \\\n",
       "60   {'n': 100, 'p': 10, 'd': [[0, 8.22, 8.64, 0.75...   \n",
       "102  {'n': 100, 'p': 10, 'd': [[0, 8.22, 8.64, 0.75...   \n",
       "20   {'n': 100, 'p': 10, 'd': [[0, 8.22, 8.64, 0.75...   \n",
       "43   {'n': 100, 'p': 10, 'd': [[0, 8.22, 8.64, 0.75...   \n",
       "10   {'n': 100, 'p': 10, 'd': [[0, 8.22, 8.64, 0.75...   \n",
       "..                                                 ...   \n",
       "113  {'n': 100, 'p': 10, 'd': [[0, 8.22, 8.64, 0.75...   \n",
       "70   {'n': 100, 'p': 10, 'd': [[0, 8.22, 8.64, 0.75...   \n",
       "62   {'n': 100, 'p': 10, 'd': [[0, 8.22, 8.64, 0.75...   \n",
       "22   {'n': 100, 'p': 10, 'd': [[0, 8.22, 8.64, 0.75...   \n",
       "2    {'n': 100, 'p': 10, 'd': [[0, 8.22, 8.64, 0.75...   \n",
       "\n",
       "                                          sol      of  n_distintos  \n",
       "60    {98, 2, 90, 37, 59, 12, 20, 26, 91, 63}  351.82            8  \n",
       "102  {64, 70, 43, 79, 16, 20, 86, 59, 60, 93}  350.18            5  \n",
       "20     {5, 70, 39, 8, 74, 43, 14, 79, 17, 60}  349.53           10  \n",
       "43    {98, 5, 38, 39, 43, 77, 88, 60, 61, 62}  348.67           10  \n",
       "10    {98, 2, 37, 59, 12, 15, 20, 89, 91, 93}  348.22            6  \n",
       "..                                        ...     ...          ...  \n",
       "113     {1, 4, 70, 8, 79, 83, 21, 23, 58, 95}  324.88           10  \n",
       "70    {5, 73, 41, 28, 18, 22, 25, 26, 59, 60}  324.78            9  \n",
       "62    {67, 3, 73, 11, 46, 84, 22, 94, 26, 30}  323.47           10  \n",
       "22    {36, 7, 71, 75, 45, 78, 14, 21, 24, 31}  322.16           10  \n",
       "2     {0, 66, 36, 71, 72, 14, 78, 17, 24, 94}  321.08           10  \n",
       "\n",
       "[101 rows x 4 columns]"
      ]
     },
     "execution_count": 112,
     "metadata": {},
     "output_type": "execute_result"
    }
   ],
   "source": [
    "sol_max = conjunto_soluciones_pd[conjunto_soluciones_pd[\"of\"] == max(conjunto_soluciones_pd[\"of\"])].iloc[0,1]\n",
    "conjunto_soluciones_pd[\"n_distintos\"] = conjunto_soluciones_pd[\"sol\"].map(lambda x: len(x.difference(sol_max)))\n",
    "conjunto_soluciones_pd[conjunto_soluciones_pd[\"n_distintos\"] > 0].sort_values(\"of\", ascending=False)"
   ]
  },
  {
   "cell_type": "markdown",
   "id": "61dd7368",
   "metadata": {},
   "source": [
    "A continuación, se realiza una implementación recursiva de Path Relinking entre dos soluciones específicas."
   ]
  },
  {
   "cell_type": "code",
   "execution_count": 113,
   "id": "b841e21a",
   "metadata": {},
   "outputs": [],
   "source": [
    "sol_0 = conjunto_soluciones[14]\n",
    "sol_1 = conjunto_soluciones[57]"
   ]
  },
  {
   "cell_type": "code",
   "execution_count": 114,
   "id": "4d3e6c6e",
   "metadata": {},
   "outputs": [
    {
     "name": "stdout",
     "output_type": "stream",
     "text": [
      "{97, 66, 98, 39, 10, 74, 82, 59, 93, 94}\n"
     ]
    }
   ],
   "source": [
    "def transicion(sol_0, sol_1):\n",
    "    best = None\n",
    "    resultado = 0\n",
    "    sol_2 = deepcopy(sol_0)\n",
    "    sol_guia = deepcopy(sol_1)\n",
    "    sol_guia[\"sol\"] = sol_guia[\"sol\"].difference(sol_0[\"sol\"])\n",
    "    for s0 in sol_0[\"sol\"]:\n",
    "        for s1 in sol_guia[\"sol\"]:\n",
    "            if s1 not in sol_0[\"sol\"]:\n",
    "                sol_2[\"sol\"].remove(s0)\n",
    "                sol_2[\"sol\"].add(s1)\n",
    "                sol_2[\"of\"] = evaluate(sol_2)\n",
    "                if best is None or sol_2[\"of\"] > best[\"of\"]:\n",
    "                    anyadido = s1\n",
    "                    best = deepcopy(sol_2)\n",
    "                sol_2[\"sol\"].remove(s1)\n",
    "                sol_2[\"sol\"].add(s0)\n",
    "    \n",
    "    sol_guia[\"sol\"].remove(anyadido)\n",
    "\n",
    "    if len(sol_guia[\"sol\"]) > 1:\n",
    "        resultado = transicion(best, sol_guia)\n",
    "\n",
    "        if resultado[\"of\"] < best[\"of\"]:\n",
    "            resultado = best\n",
    "    else:\n",
    "        print(best[\"sol\"])\n",
    "        resultado = best\n",
    "    \n",
    "\n",
    "    return resultado\n",
    "\n",
    "best = transicion(sol_0, sol_1)"
   ]
  },
  {
   "cell_type": "code",
   "execution_count": 115,
   "id": "5968f17b",
   "metadata": {},
   "outputs": [
    {
     "data": {
      "text/plain": [
       "341.01"
      ]
     },
     "execution_count": 115,
     "metadata": {},
     "output_type": "execute_result"
    }
   ],
   "source": [
    "best[\"of\"]"
   ]
  },
  {
   "cell_type": "code",
   "execution_count": 116,
   "id": "43a33463",
   "metadata": {},
   "outputs": [
    {
     "data": {
      "text/plain": [
       "338.49"
      ]
     },
     "execution_count": 116,
     "metadata": {},
     "output_type": "execute_result"
    }
   ],
   "source": [
    "sol_0[\"of\"]"
   ]
  },
  {
   "cell_type": "code",
   "execution_count": 117,
   "id": "61838372",
   "metadata": {},
   "outputs": [
    {
     "data": {
      "text/plain": [
       "{13, 16, 25, 43, 59, 64, 70, 74, 79, 86}"
      ]
     },
     "execution_count": 117,
     "metadata": {},
     "output_type": "execute_result"
    }
   ],
   "source": [
    "sol_1[\"sol\"]"
   ]
  },
  {
   "cell_type": "markdown",
   "id": "0adfb164",
   "metadata": {},
   "source": [
    "### Opción para el Path Relinking con 1 instancia"
   ]
  },
  {
   "cell_type": "markdown",
   "id": "0e7fa914",
   "metadata": {},
   "source": [
    "La siguiente función es la versión final y general de PR paso a paso."
   ]
  },
  {
   "cell_type": "code",
   "execution_count": 118,
   "id": "92888156",
   "metadata": {},
   "outputs": [],
   "source": [
    "def relink(inicio, guia):\n",
    "    current = deepcopy(inicio)\n",
    "    best = deepcopy(inicio)\n",
    "\n",
    "    to_add = guia[\"sol\"] - current[\"sol\"]\n",
    "    to_remove = current[\"sol\"] - guia[\"sol\"]\n",
    "\n",
    "    while to_add:\n",
    "        vecinos = []\n",
    "        for a in to_add:\n",
    "            for r in to_remove:\n",
    "                nuevo = deepcopy(current)\n",
    "                nuevo[\"sol\"].remove(r)\n",
    "                nuevo[\"sol\"].add(a)\n",
    "                nuevo[\"of\"] = evaluate(nuevo)\n",
    "                vecinos.append(nuevo)\n",
    "        if not vecinos:\n",
    "            break\n",
    "        current = max(vecinos, key=lambda s: s[\"of\"])\n",
    "        if current[\"of\"] > best[\"of\"]:\n",
    "            best = deepcopy(current)\n",
    "\n",
    "        to_add = guia[\"sol\"] - current[\"sol\"]\n",
    "        to_remove = current[\"sol\"] - guia[\"sol\"]\n",
    "\n",
    "    return best\n"
   ]
  },
  {
   "cell_type": "markdown",
   "id": "fc807b70",
   "metadata": {},
   "source": [
    "Ahora se busca ejecutar PR entre todos los pares del conjunto élite. Mostramos cuáles son las mejores soluciones sin repetir y la mejor que encuentra."
   ]
  },
  {
   "cell_type": "code",
   "execution_count": 119,
   "id": "c85bbdf9",
   "metadata": {},
   "outputs": [
    {
     "name": "stdout",
     "output_type": "stream",
     "text": [
      "Mejor solución encontrada por Path Relinking:\n",
      "Conjunto: {64, 96, 13, 15, 51, 20, 86, 55, 59, 93}\n",
      "Valor objetivo: 354.24999999999994\n",
      "\n",
      "Top 5 soluciones PR:\n",
      "                                             instance  \\\n",
      "0   {'n': 100, 'p': 10, 'd': [[0, 8.22, 8.64, 0.75...   \n",
      "14  {'n': 100, 'p': 10, 'd': [[0, 8.22, 8.64, 0.75...   \n",
      "26  {'n': 100, 'p': 10, 'd': [[0, 8.22, 8.64, 0.75...   \n",
      "36  {'n': 100, 'p': 10, 'd': [[0, 8.22, 8.64, 0.75...   \n",
      "44  {'n': 100, 'p': 10, 'd': [[0, 8.22, 8.64, 0.75...   \n",
      "\n",
      "                                         sol      of  n_distintos  \n",
      "0   {64, 96, 13, 15, 51, 20, 86, 55, 59, 93}  354.25            0  \n",
      "14   {98, 2, 26, 37, 91, 12, 20, 90, 59, 63}  351.82            8  \n",
      "26  {64, 70, 43, 79, 16, 20, 86, 59, 60, 93}  350.18            5  \n",
      "36    {5, 70, 39, 8, 74, 43, 14, 79, 17, 60}  349.53           10  \n",
      "44   {98, 5, 38, 39, 43, 77, 88, 60, 61, 62}  348.67           10  \n",
      "\n",
      "Total de soluciones generadas mediante PR: 7\n"
     ]
    }
   ],
   "source": [
    "# Seleccionamos las x mejores soluciones distintas (se puede modificar el nº de soluciones que se toman)\n",
    "n_soluciones = 8\n",
    "elite_df = conjunto_soluciones_pd.sort_values(\"of\", ascending=False).drop_duplicates(\"sol\").head(n_soluciones)\n",
    "elite_solutions = elite_df.to_dict(\"records\")\n",
    "\n",
    "# Aplicamos Path Relinking entre todos los pares de soluciones\n",
    "soluciones_pr = []\n",
    "mejor_pr = None\n",
    "for i in range(len(elite_solutions)):\n",
    "    for j in range(i+1, len(elite_solutions)):\n",
    "        s1 = elite_solutions[i]\n",
    "        s2 = elite_solutions[j]\n",
    "        pr1 = relink(s1, s2)\n",
    "        pr2 = relink(s2, s1)\n",
    "        soluciones_pr.extend([pr1, pr2])\n",
    "        for cand in [pr1, pr2]:\n",
    "            if mejor_pr is None or cand[\"of\"] > mejor_pr[\"of\"]:\n",
    "                mejor_pr = cand\n",
    "\n",
    "# Mostramos la mejor solución obtenida por Path Relinking\n",
    "print(\"Mejor solución encontrada por Path Relinking:\")\n",
    "print(\"Conjunto:\", mejor_pr[\"sol\"])\n",
    "print(\"Valor objetivo:\", mejor_pr[\"of\"])\n",
    "\n",
    "# Convertimos a DataFrame para análisis posterior\n",
    "df_pr = pd.DataFrame(soluciones_pr).drop_duplicates(subset=\"sol\")\n",
    "print(\"\\nTop 5 soluciones PR:\")\n",
    "print(df_pr.sort_values(\"of\", ascending=False).head(5))\n",
    "\n",
    "print(f\"\\nTotal de soluciones generadas mediante PR: {len(df_pr)}\")\n"
   ]
  },
  {
   "cell_type": "markdown",
   "id": "22e8d80d",
   "metadata": {},
   "source": [
    "### GRASP + Path Relinking con todas las instancias"
   ]
  },
  {
   "cell_type": "markdown",
   "id": "32ee58d0",
   "metadata": {},
   "source": [
    "En cada instancia:\n",
    "* Se ejecutará GRASP.\n",
    "* Se seleccionará el conjunto élite.\n",
    "* Se ejecutará el Path Relinking.\n",
    "* Se guardarán diversas métricas como la mejor solución GRASP, mejor solución PR, medias..."
   ]
  },
  {
   "cell_type": "code",
   "execution_count": 120,
   "id": "0b5633f6",
   "metadata": {},
   "outputs": [
    {
     "name": "stdout",
     "output_type": "stream",
     "text": [
      "Procesando instances/MDG-a_10_100_m10.txt...\n",
      "Procesando instances/MDG-a_12_100_m10.txt...\n",
      "Procesando instances/MDG-a_13_n500_m50.txt...\n"
     ]
    },
    {
     "ename": "KeyboardInterrupt",
     "evalue": "",
     "output_type": "error",
     "traceback": [
      "\u001b[1;31m---------------------------------------------------------------------------\u001b[0m",
      "\u001b[1;31mKeyboardInterrupt\u001b[0m                         Traceback (most recent call last)",
      "Cell \u001b[1;32mIn[120], line 12\u001b[0m\n\u001b[0;32m      9\u001b[0m \u001b[38;5;28mprint\u001b[39m(\u001b[38;5;124mf\u001b[39m\u001b[38;5;124m\"\u001b[39m\u001b[38;5;124mProcesando \u001b[39m\u001b[38;5;132;01m{\u001b[39;00marchivo\u001b[38;5;132;01m}\u001b[39;00m\u001b[38;5;124m...\u001b[39m\u001b[38;5;124m\"\u001b[39m)\n\u001b[0;32m     11\u001b[0m \u001b[38;5;28;01mtry\u001b[39;00m:\n\u001b[1;32m---> 12\u001b[0m     mejor_pr, df_pr \u001b[38;5;241m=\u001b[39m pathRelinking(archivo, alpha\u001b[38;5;241m=\u001b[39m\u001b[38;5;241m0.1\u001b[39m, tiempo\u001b[38;5;241m=\u001b[39m\u001b[38;5;241m60\u001b[39m, elite_size\u001b[38;5;241m=\u001b[39m\u001b[38;5;241m5\u001b[39m)\n\u001b[0;32m     14\u001b[0m     resultados\u001b[38;5;241m.\u001b[39mappend({\n\u001b[0;32m     15\u001b[0m         \u001b[38;5;124m\"\u001b[39m\u001b[38;5;124minstancia\u001b[39m\u001b[38;5;124m\"\u001b[39m: os\u001b[38;5;241m.\u001b[39mpath\u001b[38;5;241m.\u001b[39mbasename(archivo),\n\u001b[0;32m     16\u001b[0m         \u001b[38;5;124m\"\u001b[39m\u001b[38;5;124mmejor_objetivo_PR\u001b[39m\u001b[38;5;124m\"\u001b[39m: mejor_pr[\u001b[38;5;124m\"\u001b[39m\u001b[38;5;124mof\u001b[39m\u001b[38;5;124m\"\u001b[39m],\n\u001b[1;32m   (...)\u001b[0m\n\u001b[0;32m     19\u001b[0m         \u001b[38;5;124m\"\u001b[39m\u001b[38;5;124mnum_soluciones_PR\u001b[39m\u001b[38;5;124m\"\u001b[39m: \u001b[38;5;28mlen\u001b[39m(df_pr)\n\u001b[0;32m     20\u001b[0m     })\n\u001b[0;32m     22\u001b[0m \u001b[38;5;28;01mexcept\u001b[39;00m \u001b[38;5;167;01mException\u001b[39;00m \u001b[38;5;28;01mas\u001b[39;00m e:\n",
      "File \u001b[1;32mc:\\Users\\Usuario\\Desktop\\CarlesV\\4t_2024-2025\\LOG\\Proyecto\\Trabajo-Log-stica-main\\Trabajo-Log-stica\\path_relinking.py:68\u001b[0m, in \u001b[0;36mpathRelinking\u001b[1;34m(path, alpha, tiempo, elite_size)\u001b[0m\n\u001b[0;32m     66\u001b[0m \u001b[38;5;66;03m# Aplicamos PR entre pares de soluciones élite\u001b[39;00m\n\u001b[0;32m     67\u001b[0m soluciones_pr \u001b[38;5;241m=\u001b[39m []\n\u001b[1;32m---> 68\u001b[0m mejor_pr \u001b[38;5;241m=\u001b[39m \u001b[38;5;28;01mNone\u001b[39;00m\n\u001b[0;32m     69\u001b[0m \u001b[38;5;28;01mfor\u001b[39;00m i \u001b[38;5;129;01min\u001b[39;00m \u001b[38;5;28mrange\u001b[39m(\u001b[38;5;28mlen\u001b[39m(elite)):\n\u001b[0;32m     70\u001b[0m     \u001b[38;5;28;01mfor\u001b[39;00m j \u001b[38;5;129;01min\u001b[39;00m \u001b[38;5;28mrange\u001b[39m(i \u001b[38;5;241m+\u001b[39m \u001b[38;5;241m1\u001b[39m, \u001b[38;5;28mlen\u001b[39m(elite)):\n\u001b[0;32m     71\u001b[0m         \u001b[38;5;66;03m# Verifica si se excedió el tiempo total asignado\u001b[39;00m\n",
      "File \u001b[1;32mc:\\Users\\Usuario\\Desktop\\CarlesV\\4t_2024-2025\\LOG\\Proyecto\\Trabajo-Log-stica-main\\Trabajo-Log-stica\\path_relinking.py:16\u001b[0m, in \u001b[0;36mrelink\u001b[1;34m(start, guide)\u001b[0m\n\u001b[0;32m     14\u001b[0m \u001b[38;5;28;01mfor\u001b[39;00m a \u001b[38;5;129;01min\u001b[39;00m to_add:\n\u001b[0;32m     15\u001b[0m     \u001b[38;5;28;01mfor\u001b[39;00m r \u001b[38;5;129;01min\u001b[39;00m to_remove:\n\u001b[1;32m---> 16\u001b[0m         nuevo \u001b[38;5;241m=\u001b[39m deepcopy(current)\n\u001b[0;32m     17\u001b[0m         nuevo[\u001b[38;5;124m\"\u001b[39m\u001b[38;5;124msol\u001b[39m\u001b[38;5;124m\"\u001b[39m]\u001b[38;5;241m.\u001b[39mremove(r)\n\u001b[0;32m     18\u001b[0m         nuevo[\u001b[38;5;124m\"\u001b[39m\u001b[38;5;124msol\u001b[39m\u001b[38;5;124m\"\u001b[39m]\u001b[38;5;241m.\u001b[39madd(a)\n",
      "File \u001b[1;32mc:\\Users\\Usuario\\anaconda3\\Lib\\copy.py:136\u001b[0m, in \u001b[0;36mdeepcopy\u001b[1;34m(x, memo, _nil)\u001b[0m\n\u001b[0;32m    134\u001b[0m copier \u001b[38;5;241m=\u001b[39m _deepcopy_dispatch\u001b[38;5;241m.\u001b[39mget(\u001b[38;5;28mcls\u001b[39m)\n\u001b[0;32m    135\u001b[0m \u001b[38;5;28;01mif\u001b[39;00m copier \u001b[38;5;129;01mis\u001b[39;00m \u001b[38;5;129;01mnot\u001b[39;00m \u001b[38;5;28;01mNone\u001b[39;00m:\n\u001b[1;32m--> 136\u001b[0m     y \u001b[38;5;241m=\u001b[39m copier(x, memo)\n\u001b[0;32m    137\u001b[0m \u001b[38;5;28;01melse\u001b[39;00m:\n\u001b[0;32m    138\u001b[0m     \u001b[38;5;28;01mif\u001b[39;00m \u001b[38;5;28missubclass\u001b[39m(\u001b[38;5;28mcls\u001b[39m, \u001b[38;5;28mtype\u001b[39m):\n",
      "File \u001b[1;32mc:\\Users\\Usuario\\anaconda3\\Lib\\copy.py:221\u001b[0m, in \u001b[0;36m_deepcopy_dict\u001b[1;34m(x, memo, deepcopy)\u001b[0m\n\u001b[0;32m    219\u001b[0m memo[\u001b[38;5;28mid\u001b[39m(x)] \u001b[38;5;241m=\u001b[39m y\n\u001b[0;32m    220\u001b[0m \u001b[38;5;28;01mfor\u001b[39;00m key, value \u001b[38;5;129;01min\u001b[39;00m x\u001b[38;5;241m.\u001b[39mitems():\n\u001b[1;32m--> 221\u001b[0m     y[deepcopy(key, memo)] \u001b[38;5;241m=\u001b[39m deepcopy(value, memo)\n\u001b[0;32m    222\u001b[0m \u001b[38;5;28;01mreturn\u001b[39;00m y\n",
      "File \u001b[1;32mc:\\Users\\Usuario\\anaconda3\\Lib\\copy.py:136\u001b[0m, in \u001b[0;36mdeepcopy\u001b[1;34m(x, memo, _nil)\u001b[0m\n\u001b[0;32m    134\u001b[0m copier \u001b[38;5;241m=\u001b[39m _deepcopy_dispatch\u001b[38;5;241m.\u001b[39mget(\u001b[38;5;28mcls\u001b[39m)\n\u001b[0;32m    135\u001b[0m \u001b[38;5;28;01mif\u001b[39;00m copier \u001b[38;5;129;01mis\u001b[39;00m \u001b[38;5;129;01mnot\u001b[39;00m \u001b[38;5;28;01mNone\u001b[39;00m:\n\u001b[1;32m--> 136\u001b[0m     y \u001b[38;5;241m=\u001b[39m copier(x, memo)\n\u001b[0;32m    137\u001b[0m \u001b[38;5;28;01melse\u001b[39;00m:\n\u001b[0;32m    138\u001b[0m     \u001b[38;5;28;01mif\u001b[39;00m \u001b[38;5;28missubclass\u001b[39m(\u001b[38;5;28mcls\u001b[39m, \u001b[38;5;28mtype\u001b[39m):\n",
      "File \u001b[1;32mc:\\Users\\Usuario\\anaconda3\\Lib\\copy.py:221\u001b[0m, in \u001b[0;36m_deepcopy_dict\u001b[1;34m(x, memo, deepcopy)\u001b[0m\n\u001b[0;32m    219\u001b[0m memo[\u001b[38;5;28mid\u001b[39m(x)] \u001b[38;5;241m=\u001b[39m y\n\u001b[0;32m    220\u001b[0m \u001b[38;5;28;01mfor\u001b[39;00m key, value \u001b[38;5;129;01min\u001b[39;00m x\u001b[38;5;241m.\u001b[39mitems():\n\u001b[1;32m--> 221\u001b[0m     y[deepcopy(key, memo)] \u001b[38;5;241m=\u001b[39m deepcopy(value, memo)\n\u001b[0;32m    222\u001b[0m \u001b[38;5;28;01mreturn\u001b[39;00m y\n",
      "File \u001b[1;32mc:\\Users\\Usuario\\anaconda3\\Lib\\copy.py:136\u001b[0m, in \u001b[0;36mdeepcopy\u001b[1;34m(x, memo, _nil)\u001b[0m\n\u001b[0;32m    134\u001b[0m copier \u001b[38;5;241m=\u001b[39m _deepcopy_dispatch\u001b[38;5;241m.\u001b[39mget(\u001b[38;5;28mcls\u001b[39m)\n\u001b[0;32m    135\u001b[0m \u001b[38;5;28;01mif\u001b[39;00m copier \u001b[38;5;129;01mis\u001b[39;00m \u001b[38;5;129;01mnot\u001b[39;00m \u001b[38;5;28;01mNone\u001b[39;00m:\n\u001b[1;32m--> 136\u001b[0m     y \u001b[38;5;241m=\u001b[39m copier(x, memo)\n\u001b[0;32m    137\u001b[0m \u001b[38;5;28;01melse\u001b[39;00m:\n\u001b[0;32m    138\u001b[0m     \u001b[38;5;28;01mif\u001b[39;00m \u001b[38;5;28missubclass\u001b[39m(\u001b[38;5;28mcls\u001b[39m, \u001b[38;5;28mtype\u001b[39m):\n",
      "File \u001b[1;32mc:\\Users\\Usuario\\anaconda3\\Lib\\copy.py:196\u001b[0m, in \u001b[0;36m_deepcopy_list\u001b[1;34m(x, memo, deepcopy)\u001b[0m\n\u001b[0;32m    194\u001b[0m append \u001b[38;5;241m=\u001b[39m y\u001b[38;5;241m.\u001b[39mappend\n\u001b[0;32m    195\u001b[0m \u001b[38;5;28;01mfor\u001b[39;00m a \u001b[38;5;129;01min\u001b[39;00m x:\n\u001b[1;32m--> 196\u001b[0m     append(deepcopy(a, memo))\n\u001b[0;32m    197\u001b[0m \u001b[38;5;28;01mreturn\u001b[39;00m y\n",
      "File \u001b[1;32mc:\\Users\\Usuario\\anaconda3\\Lib\\copy.py:136\u001b[0m, in \u001b[0;36mdeepcopy\u001b[1;34m(x, memo, _nil)\u001b[0m\n\u001b[0;32m    134\u001b[0m copier \u001b[38;5;241m=\u001b[39m _deepcopy_dispatch\u001b[38;5;241m.\u001b[39mget(\u001b[38;5;28mcls\u001b[39m)\n\u001b[0;32m    135\u001b[0m \u001b[38;5;28;01mif\u001b[39;00m copier \u001b[38;5;129;01mis\u001b[39;00m \u001b[38;5;129;01mnot\u001b[39;00m \u001b[38;5;28;01mNone\u001b[39;00m:\n\u001b[1;32m--> 136\u001b[0m     y \u001b[38;5;241m=\u001b[39m copier(x, memo)\n\u001b[0;32m    137\u001b[0m \u001b[38;5;28;01melse\u001b[39;00m:\n\u001b[0;32m    138\u001b[0m     \u001b[38;5;28;01mif\u001b[39;00m \u001b[38;5;28missubclass\u001b[39m(\u001b[38;5;28mcls\u001b[39m, \u001b[38;5;28mtype\u001b[39m):\n",
      "File \u001b[1;32mc:\\Users\\Usuario\\anaconda3\\Lib\\copy.py:196\u001b[0m, in \u001b[0;36m_deepcopy_list\u001b[1;34m(x, memo, deepcopy)\u001b[0m\n\u001b[0;32m    194\u001b[0m append \u001b[38;5;241m=\u001b[39m y\u001b[38;5;241m.\u001b[39mappend\n\u001b[0;32m    195\u001b[0m \u001b[38;5;28;01mfor\u001b[39;00m a \u001b[38;5;129;01min\u001b[39;00m x:\n\u001b[1;32m--> 196\u001b[0m     append(deepcopy(a, memo))\n\u001b[0;32m    197\u001b[0m \u001b[38;5;28;01mreturn\u001b[39;00m y\n",
      "\u001b[1;31mKeyboardInterrupt\u001b[0m: "
     ]
    }
   ],
   "source": [
    "# Ruta a la carpeta con las 15 instancias\n",
    "carpeta_instancias = \"instances/\"\n",
    "archivos = sorted([carpeta_instancias + f for f in os.listdir(carpeta_instancias) if f.endswith(\".txt\")])\n",
    "\n",
    "resultados = []\n",
    "\n",
    "# Ejecutar GRASP+PR para cada archivo\n",
    "for archivo in archivos:\n",
    "    print(f\"Procesando {archivo}...\")\n",
    "\n",
    "    try:\n",
    "        mejor_pr, df_pr = pathRelinking(archivo, alpha=0.1, tiempo=60, elite_size=5)\n",
    "\n",
    "        resultados.append({\n",
    "            \"instancia\": os.path.basename(archivo),\n",
    "            \"mejor_objetivo_PR\": mejor_pr[\"of\"],\n",
    "            \"media_objetivos_PR\": df_pr[\"of\"].mean(),\n",
    "            \"desviacion_objetivos_PR\": df_pr[\"of\"].std(),\n",
    "            \"num_soluciones_PR\": len(df_pr)\n",
    "        })\n",
    "\n",
    "    except Exception as e:\n",
    "        print(f\"Error procesando {archivo}: {e}\")\n",
    "\n",
    "# Guardar resultados en CSV\n",
    "df_resultados = pd.DataFrame(resultados)\n",
    "df_resultados.to_csv(\"resultados_path_relinking.csv\", index=False)\n",
    "\n",
    "print(\"Resultados guardados en 'resultados_path_relinking.csv'\")\n"
   ]
  }
 ],
 "metadata": {
  "kernelspec": {
   "display_name": "base",
   "language": "python",
   "name": "python3"
  },
  "language_info": {
   "codemirror_mode": {
    "name": "ipython",
    "version": 3
   },
   "file_extension": ".py",
   "mimetype": "text/x-python",
   "name": "python",
   "nbconvert_exporter": "python",
   "pygments_lexer": "ipython3",
   "version": "3.12.3"
  }
 },
 "nbformat": 4,
 "nbformat_minor": 5
}
