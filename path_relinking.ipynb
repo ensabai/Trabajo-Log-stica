{
 "cells": [
  {
   "cell_type": "markdown",
   "id": "2eecb115",
   "metadata": {},
   "source": [
    "# Implementación Path Relinking\n",
    "---"
   ]
  },
  {
   "cell_type": "code",
   "execution_count": 119,
   "id": "61bb7cf2",
   "metadata": {},
   "outputs": [],
   "source": [
    "from structure import instance, solution\n",
    "from algorithms import grasp\n",
    "from structure.solution import evaluate\n",
    "from copy import deepcopy\n",
    "import pandas as pd\n",
    "import random"
   ]
  },
  {
   "cell_type": "code",
   "execution_count": 218,
   "id": "cf41a7af",
   "metadata": {},
   "outputs": [],
   "source": [
    "path = \"instances/MDG-a_12_100_m10.txt\"\n",
    "inst = instance.readInstance(path)\n",
    "sol, conjunto_soluciones, tiempo_final_grasp = grasp.execute(inst, 1, 0.1)"
   ]
  },
  {
   "cell_type": "code",
   "execution_count": 219,
   "id": "540ce189",
   "metadata": {},
   "outputs": [],
   "source": [
    "conjunto_soluciones_pd = pd.DataFrame(conjunto_soluciones)\n",
    "conjunto_soluciones_pd = conjunto_soluciones_pd.drop_duplicates(\"sol\")"
   ]
  },
  {
   "cell_type": "code",
   "execution_count": 220,
   "id": "37bdaec0",
   "metadata": {},
   "outputs": [
    {
     "data": {
      "text/html": [
       "<div>\n",
       "<style scoped>\n",
       "    .dataframe tbody tr th:only-of-type {\n",
       "        vertical-align: middle;\n",
       "    }\n",
       "\n",
       "    .dataframe tbody tr th {\n",
       "        vertical-align: top;\n",
       "    }\n",
       "\n",
       "    .dataframe thead th {\n",
       "        text-align: right;\n",
       "    }\n",
       "</style>\n",
       "<table border=\"1\" class=\"dataframe\">\n",
       "  <thead>\n",
       "    <tr style=\"text-align: right;\">\n",
       "      <th></th>\n",
       "      <th>instance</th>\n",
       "      <th>sol</th>\n",
       "      <th>of</th>\n",
       "    </tr>\n",
       "  </thead>\n",
       "  <tbody>\n",
       "    <tr>\n",
       "      <th>9</th>\n",
       "      <td>{'n': 100, 'p': 10, 'd': [[0, 8.22, 8.64, 0.75...</td>\n",
       "      <td>{64, 96, 13, 15, 51, 20, 86, 55, 59, 93}</td>\n",
       "      <td>354.25</td>\n",
       "    </tr>\n",
       "    <tr>\n",
       "      <th>238</th>\n",
       "      <td>{'n': 100, 'p': 10, 'd': [[0, 8.22, 8.64, 0.75...</td>\n",
       "      <td>{2, 98, 37, 90, 91, 12, 20, 26, 59, 63}</td>\n",
       "      <td>351.82</td>\n",
       "    </tr>\n",
       "    <tr>\n",
       "      <th>30</th>\n",
       "      <td>{'n': 100, 'p': 10, 'd': [[0, 8.22, 8.64, 0.75...</td>\n",
       "      <td>{64, 70, 43, 79, 16, 20, 86, 59, 60, 93}</td>\n",
       "      <td>350.18</td>\n",
       "    </tr>\n",
       "    <tr>\n",
       "      <th>164</th>\n",
       "      <td>{'n': 100, 'p': 10, 'd': [[0, 8.22, 8.64, 0.75...</td>\n",
       "      <td>{5, 70, 39, 8, 74, 43, 14, 79, 17, 60}</td>\n",
       "      <td>349.53</td>\n",
       "    </tr>\n",
       "    <tr>\n",
       "      <th>62</th>\n",
       "      <td>{'n': 100, 'p': 10, 'd': [[0, 8.22, 8.64, 0.75...</td>\n",
       "      <td>{66, 3, 14, 78, 15, 83, 53, 56, 61, 94}</td>\n",
       "      <td>349.45</td>\n",
       "    </tr>\n",
       "    <tr>\n",
       "      <th>...</th>\n",
       "      <td>...</td>\n",
       "      <td>...</td>\n",
       "      <td>...</td>\n",
       "    </tr>\n",
       "    <tr>\n",
       "      <th>281</th>\n",
       "      <td>{'n': 100, 'p': 10, 'd': [[0, 8.22, 8.64, 0.75...</td>\n",
       "      <td>{65, 35, 68, 71, 11, 13, 48, 87, 28, 29}</td>\n",
       "      <td>319.17</td>\n",
       "    </tr>\n",
       "    <tr>\n",
       "      <th>1</th>\n",
       "      <td>{'n': 100, 'p': 10, 'd': [[0, 8.22, 8.64, 0.75...</td>\n",
       "      <td>{72, 74, 75, 12, 13, 14, 17, 58, 59, 95}</td>\n",
       "      <td>319.05</td>\n",
       "    </tr>\n",
       "    <tr>\n",
       "      <th>420</th>\n",
       "      <td>{'n': 100, 'p': 10, 'd': [[0, 8.22, 8.64, 0.75...</td>\n",
       "      <td>{67, 26, 72, 40, 75, 81, 85, 22, 24, 58}</td>\n",
       "      <td>317.13</td>\n",
       "    </tr>\n",
       "    <tr>\n",
       "      <th>15</th>\n",
       "      <td>{'n': 100, 'p': 10, 'd': [[0, 8.22, 8.64, 0.75...</td>\n",
       "      <td>{97, 71, 42, 77, 80, 20, 21, 87, 24, 31}</td>\n",
       "      <td>317.04</td>\n",
       "    </tr>\n",
       "    <tr>\n",
       "      <th>213</th>\n",
       "      <td>{'n': 100, 'p': 10, 'd': [[0, 8.22, 8.64, 0.75...</td>\n",
       "      <td>{0, 72, 9, 43, 12, 14, 78, 17, 24, 94}</td>\n",
       "      <td>313.72</td>\n",
       "    </tr>\n",
       "  </tbody>\n",
       "</table>\n",
       "<p>444 rows × 3 columns</p>\n",
       "</div>"
      ],
      "text/plain": [
       "                                              instance  \\\n",
       "9    {'n': 100, 'p': 10, 'd': [[0, 8.22, 8.64, 0.75...   \n",
       "238  {'n': 100, 'p': 10, 'd': [[0, 8.22, 8.64, 0.75...   \n",
       "30   {'n': 100, 'p': 10, 'd': [[0, 8.22, 8.64, 0.75...   \n",
       "164  {'n': 100, 'p': 10, 'd': [[0, 8.22, 8.64, 0.75...   \n",
       "62   {'n': 100, 'p': 10, 'd': [[0, 8.22, 8.64, 0.75...   \n",
       "..                                                 ...   \n",
       "281  {'n': 100, 'p': 10, 'd': [[0, 8.22, 8.64, 0.75...   \n",
       "1    {'n': 100, 'p': 10, 'd': [[0, 8.22, 8.64, 0.75...   \n",
       "420  {'n': 100, 'p': 10, 'd': [[0, 8.22, 8.64, 0.75...   \n",
       "15   {'n': 100, 'p': 10, 'd': [[0, 8.22, 8.64, 0.75...   \n",
       "213  {'n': 100, 'p': 10, 'd': [[0, 8.22, 8.64, 0.75...   \n",
       "\n",
       "                                          sol      of  \n",
       "9    {64, 96, 13, 15, 51, 20, 86, 55, 59, 93}  354.25  \n",
       "238   {2, 98, 37, 90, 91, 12, 20, 26, 59, 63}  351.82  \n",
       "30   {64, 70, 43, 79, 16, 20, 86, 59, 60, 93}  350.18  \n",
       "164    {5, 70, 39, 8, 74, 43, 14, 79, 17, 60}  349.53  \n",
       "62    {66, 3, 14, 78, 15, 83, 53, 56, 61, 94}  349.45  \n",
       "..                                        ...     ...  \n",
       "281  {65, 35, 68, 71, 11, 13, 48, 87, 28, 29}  319.17  \n",
       "1    {72, 74, 75, 12, 13, 14, 17, 58, 59, 95}  319.05  \n",
       "420  {67, 26, 72, 40, 75, 81, 85, 22, 24, 58}  317.13  \n",
       "15   {97, 71, 42, 77, 80, 20, 21, 87, 24, 31}  317.04  \n",
       "213    {0, 72, 9, 43, 12, 14, 78, 17, 24, 94}  313.72  \n",
       "\n",
       "[444 rows x 3 columns]"
      ]
     },
     "execution_count": 220,
     "metadata": {},
     "output_type": "execute_result"
    }
   ],
   "source": [
    "conjunto_soluciones_pd.sort_values(\"of\", ascending=False)"
   ]
  },
  {
   "cell_type": "code",
   "execution_count": 221,
   "id": "1be152ce",
   "metadata": {},
   "outputs": [
    {
     "data": {
      "text/html": [
       "<div>\n",
       "<style scoped>\n",
       "    .dataframe tbody tr th:only-of-type {\n",
       "        vertical-align: middle;\n",
       "    }\n",
       "\n",
       "    .dataframe tbody tr th {\n",
       "        vertical-align: top;\n",
       "    }\n",
       "\n",
       "    .dataframe thead th {\n",
       "        text-align: right;\n",
       "    }\n",
       "</style>\n",
       "<table border=\"1\" class=\"dataframe\">\n",
       "  <thead>\n",
       "    <tr style=\"text-align: right;\">\n",
       "      <th></th>\n",
       "      <th>instance</th>\n",
       "      <th>sol</th>\n",
       "      <th>of</th>\n",
       "      <th>n_distintos</th>\n",
       "    </tr>\n",
       "  </thead>\n",
       "  <tbody>\n",
       "    <tr>\n",
       "      <th>238</th>\n",
       "      <td>{'n': 100, 'p': 10, 'd': [[0, 8.22, 8.64, 0.75...</td>\n",
       "      <td>{2, 98, 37, 90, 91, 12, 20, 26, 59, 63}</td>\n",
       "      <td>351.82</td>\n",
       "      <td>8</td>\n",
       "    </tr>\n",
       "    <tr>\n",
       "      <th>30</th>\n",
       "      <td>{'n': 100, 'p': 10, 'd': [[0, 8.22, 8.64, 0.75...</td>\n",
       "      <td>{64, 70, 43, 79, 16, 20, 86, 59, 60, 93}</td>\n",
       "      <td>350.18</td>\n",
       "      <td>5</td>\n",
       "    </tr>\n",
       "    <tr>\n",
       "      <th>164</th>\n",
       "      <td>{'n': 100, 'p': 10, 'd': [[0, 8.22, 8.64, 0.75...</td>\n",
       "      <td>{5, 70, 39, 8, 74, 43, 14, 79, 17, 60}</td>\n",
       "      <td>349.53</td>\n",
       "      <td>10</td>\n",
       "    </tr>\n",
       "    <tr>\n",
       "      <th>62</th>\n",
       "      <td>{'n': 100, 'p': 10, 'd': [[0, 8.22, 8.64, 0.75...</td>\n",
       "      <td>{66, 3, 14, 78, 15, 83, 53, 56, 61, 94}</td>\n",
       "      <td>349.45</td>\n",
       "      <td>9</td>\n",
       "    </tr>\n",
       "    <tr>\n",
       "      <th>166</th>\n",
       "      <td>{'n': 100, 'p': 10, 'd': [[0, 8.22, 8.64, 0.75...</td>\n",
       "      <td>{2, 98, 37, 15, 16, 20, 86, 59, 60, 93}</td>\n",
       "      <td>349.36</td>\n",
       "      <td>5</td>\n",
       "    </tr>\n",
       "    <tr>\n",
       "      <th>...</th>\n",
       "      <td>...</td>\n",
       "      <td>...</td>\n",
       "      <td>...</td>\n",
       "      <td>...</td>\n",
       "    </tr>\n",
       "    <tr>\n",
       "      <th>281</th>\n",
       "      <td>{'n': 100, 'p': 10, 'd': [[0, 8.22, 8.64, 0.75...</td>\n",
       "      <td>{65, 35, 68, 71, 11, 13, 48, 87, 28, 29}</td>\n",
       "      <td>319.17</td>\n",
       "      <td>9</td>\n",
       "    </tr>\n",
       "    <tr>\n",
       "      <th>1</th>\n",
       "      <td>{'n': 100, 'p': 10, 'd': [[0, 8.22, 8.64, 0.75...</td>\n",
       "      <td>{72, 74, 75, 12, 13, 14, 17, 58, 59, 95}</td>\n",
       "      <td>319.05</td>\n",
       "      <td>8</td>\n",
       "    </tr>\n",
       "    <tr>\n",
       "      <th>420</th>\n",
       "      <td>{'n': 100, 'p': 10, 'd': [[0, 8.22, 8.64, 0.75...</td>\n",
       "      <td>{67, 26, 72, 40, 75, 81, 85, 22, 24, 58}</td>\n",
       "      <td>317.13</td>\n",
       "      <td>10</td>\n",
       "    </tr>\n",
       "    <tr>\n",
       "      <th>15</th>\n",
       "      <td>{'n': 100, 'p': 10, 'd': [[0, 8.22, 8.64, 0.75...</td>\n",
       "      <td>{97, 71, 42, 77, 80, 20, 21, 87, 24, 31}</td>\n",
       "      <td>317.04</td>\n",
       "      <td>9</td>\n",
       "    </tr>\n",
       "    <tr>\n",
       "      <th>213</th>\n",
       "      <td>{'n': 100, 'p': 10, 'd': [[0, 8.22, 8.64, 0.75...</td>\n",
       "      <td>{0, 72, 9, 43, 12, 14, 78, 17, 24, 94}</td>\n",
       "      <td>313.72</td>\n",
       "      <td>10</td>\n",
       "    </tr>\n",
       "  </tbody>\n",
       "</table>\n",
       "<p>443 rows × 4 columns</p>\n",
       "</div>"
      ],
      "text/plain": [
       "                                              instance  \\\n",
       "238  {'n': 100, 'p': 10, 'd': [[0, 8.22, 8.64, 0.75...   \n",
       "30   {'n': 100, 'p': 10, 'd': [[0, 8.22, 8.64, 0.75...   \n",
       "164  {'n': 100, 'p': 10, 'd': [[0, 8.22, 8.64, 0.75...   \n",
       "62   {'n': 100, 'p': 10, 'd': [[0, 8.22, 8.64, 0.75...   \n",
       "166  {'n': 100, 'p': 10, 'd': [[0, 8.22, 8.64, 0.75...   \n",
       "..                                                 ...   \n",
       "281  {'n': 100, 'p': 10, 'd': [[0, 8.22, 8.64, 0.75...   \n",
       "1    {'n': 100, 'p': 10, 'd': [[0, 8.22, 8.64, 0.75...   \n",
       "420  {'n': 100, 'p': 10, 'd': [[0, 8.22, 8.64, 0.75...   \n",
       "15   {'n': 100, 'p': 10, 'd': [[0, 8.22, 8.64, 0.75...   \n",
       "213  {'n': 100, 'p': 10, 'd': [[0, 8.22, 8.64, 0.75...   \n",
       "\n",
       "                                          sol      of  n_distintos  \n",
       "238   {2, 98, 37, 90, 91, 12, 20, 26, 59, 63}  351.82            8  \n",
       "30   {64, 70, 43, 79, 16, 20, 86, 59, 60, 93}  350.18            5  \n",
       "164    {5, 70, 39, 8, 74, 43, 14, 79, 17, 60}  349.53           10  \n",
       "62    {66, 3, 14, 78, 15, 83, 53, 56, 61, 94}  349.45            9  \n",
       "166   {2, 98, 37, 15, 16, 20, 86, 59, 60, 93}  349.36            5  \n",
       "..                                        ...     ...          ...  \n",
       "281  {65, 35, 68, 71, 11, 13, 48, 87, 28, 29}  319.17            9  \n",
       "1    {72, 74, 75, 12, 13, 14, 17, 58, 59, 95}  319.05            8  \n",
       "420  {67, 26, 72, 40, 75, 81, 85, 22, 24, 58}  317.13           10  \n",
       "15   {97, 71, 42, 77, 80, 20, 21, 87, 24, 31}  317.04            9  \n",
       "213    {0, 72, 9, 43, 12, 14, 78, 17, 24, 94}  313.72           10  \n",
       "\n",
       "[443 rows x 4 columns]"
      ]
     },
     "execution_count": 221,
     "metadata": {},
     "output_type": "execute_result"
    }
   ],
   "source": [
    "sol_max = conjunto_soluciones_pd[conjunto_soluciones_pd[\"of\"] == max(conjunto_soluciones_pd[\"of\"])].iloc[0,1]\n",
    "conjunto_soluciones_pd[\"n_distintos\"] = conjunto_soluciones_pd[\"sol\"].map(lambda x: len(x.difference(sol_max)))\n",
    "conjunto_soluciones_pd[conjunto_soluciones_pd[\"n_distintos\"] > 0].sort_values(\"of\", ascending=False)"
   ]
  },
  {
   "cell_type": "code",
   "execution_count": 214,
   "id": "b841e21a",
   "metadata": {},
   "outputs": [],
   "source": [
    "sol_0 = conjunto_soluciones[14]\n",
    "sol_1 = conjunto_soluciones[57]"
   ]
  },
  {
   "cell_type": "code",
   "execution_count": 215,
   "id": "4d3e6c6e",
   "metadata": {},
   "outputs": [
    {
     "name": "stdout",
     "output_type": "stream",
     "text": [
      "{64, 13, 15, 17, 51, 20, 86, 55, 59, 93}\n"
     ]
    }
   ],
   "source": [
    "def transicion(sol_0, sol_1):\n",
    "    best = None\n",
    "    resultado = 0\n",
    "    sol_2 = deepcopy(sol_0)\n",
    "    sol_guia = deepcopy(sol_1)\n",
    "    sol_guia[\"sol\"] = sol_guia[\"sol\"].difference(sol_0[\"sol\"])\n",
    "    for s0 in sol_0[\"sol\"]:\n",
    "        for s1 in sol_guia[\"sol\"]:\n",
    "            if s1 not in sol_0[\"sol\"]:\n",
    "                sol_2[\"sol\"].remove(s0)\n",
    "                sol_2[\"sol\"].add(s1)\n",
    "                sol_2[\"of\"] = evaluate(sol_2)\n",
    "                if best is None or sol_2[\"of\"] > best[\"of\"]:\n",
    "                    anyadido = s1\n",
    "                    best = deepcopy(sol_2)\n",
    "                sol_2[\"sol\"].remove(s1)\n",
    "                sol_2[\"sol\"].add(s0)\n",
    "    \n",
    "    sol_guia[\"sol\"].remove(anyadido)\n",
    "\n",
    "    if len(sol_guia[\"sol\"]) > 1:\n",
    "        resultado = transicion(best, sol_guia)\n",
    "\n",
    "        if resultado[\"of\"] < best[\"of\"]:\n",
    "            resultado = best\n",
    "    else:\n",
    "        print(best[\"sol\"])\n",
    "        resultado = best\n",
    "    \n",
    "\n",
    "    return resultado\n",
    "\n",
    "best = transicion(sol_0, sol_1)"
   ]
  },
  {
   "cell_type": "code",
   "execution_count": 216,
   "id": "5968f17b",
   "metadata": {},
   "outputs": [
    {
     "data": {
      "text/plain": [
       "324.46"
      ]
     },
     "execution_count": 216,
     "metadata": {},
     "output_type": "execute_result"
    }
   ],
   "source": [
    "best[\"of\"]"
   ]
  },
  {
   "cell_type": "code",
   "execution_count": 211,
   "id": "43a33463",
   "metadata": {},
   "outputs": [
    {
     "data": {
      "text/plain": [
       "354.25"
      ]
     },
     "execution_count": 211,
     "metadata": {},
     "output_type": "execute_result"
    }
   ],
   "source": [
    "sol_0[\"of\"]"
   ]
  },
  {
   "cell_type": "code",
   "execution_count": 217,
   "id": "61838372",
   "metadata": {},
   "outputs": [
    {
     "data": {
      "text/plain": [
       "{17}"
      ]
     },
     "execution_count": 217,
     "metadata": {},
     "output_type": "execute_result"
    }
   ],
   "source": [
    "sol_1[\"sol\"]"
   ]
  }
 ],
 "metadata": {
  "kernelspec": {
   "display_name": "base",
   "language": "python",
   "name": "python3"
  },
  "language_info": {
   "codemirror_mode": {
    "name": "ipython",
    "version": 3
   },
   "file_extension": ".py",
   "mimetype": "text/x-python",
   "name": "python",
   "nbconvert_exporter": "python",
   "pygments_lexer": "ipython3",
   "version": "3.12.9"
  }
 },
 "nbformat": 4,
 "nbformat_minor": 5
}
