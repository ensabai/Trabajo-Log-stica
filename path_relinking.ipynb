{
 "cells": [
  {
   "cell_type": "markdown",
   "id": "2eecb115",
   "metadata": {},
   "source": [
    "# Implementación Path Relinking\n",
    "---"
   ]
  },
  {
   "cell_type": "code",
   "execution_count": 17,
   "id": "61bb7cf2",
   "metadata": {},
   "outputs": [],
   "source": [
    "from structure import instance, solution\n",
    "from algorithms import grasp\n",
    "from structure.solution import evaluate\n",
    "from copy import deepcopy\n",
    "import pandas as pd\n",
    "import random"
   ]
  },
  {
   "cell_type": "code",
   "execution_count": 18,
   "id": "cf41a7af",
   "metadata": {},
   "outputs": [],
   "source": [
    "path = \"instances/MDG-a_12_100_m10.txt\"\n",
    "inst = instance.readInstance(path)\n",
    "sol, conjunto_soluciones, tiempo_final_grasp = grasp.execute(inst, 1, 0.1)"
   ]
  },
  {
   "cell_type": "code",
   "execution_count": 19,
   "id": "540ce189",
   "metadata": {},
   "outputs": [],
   "source": [
    "conjunto_soluciones_pd = pd.DataFrame(conjunto_soluciones)\n",
    "conjunto_soluciones_pd = conjunto_soluciones_pd.drop_duplicates(\"sol\")"
   ]
  },
  {
   "cell_type": "code",
   "execution_count": 20,
   "id": "37bdaec0",
   "metadata": {},
   "outputs": [
    {
     "data": {
      "text/html": [
       "<div>\n",
       "<style scoped>\n",
       "    .dataframe tbody tr th:only-of-type {\n",
       "        vertical-align: middle;\n",
       "    }\n",
       "\n",
       "    .dataframe tbody tr th {\n",
       "        vertical-align: top;\n",
       "    }\n",
       "\n",
       "    .dataframe thead th {\n",
       "        text-align: right;\n",
       "    }\n",
       "</style>\n",
       "<table border=\"1\" class=\"dataframe\">\n",
       "  <thead>\n",
       "    <tr style=\"text-align: right;\">\n",
       "      <th></th>\n",
       "      <th>instance</th>\n",
       "      <th>sol</th>\n",
       "      <th>of</th>\n",
       "    </tr>\n",
       "  </thead>\n",
       "  <tbody>\n",
       "    <tr>\n",
       "      <th>55</th>\n",
       "      <td>{'n': 100, 'p': 10, 'd': [[0, 8.22, 8.64, 0.75...</td>\n",
       "      <td>{64, 96, 13, 15, 51, 20, 86, 55, 59, 93}</td>\n",
       "      <td>354.25</td>\n",
       "    </tr>\n",
       "    <tr>\n",
       "      <th>34</th>\n",
       "      <td>{'n': 100, 'p': 10, 'd': [[0, 8.22, 8.64, 0.75...</td>\n",
       "      <td>{98, 2, 37, 90, 59, 12, 20, 26, 91, 63}</td>\n",
       "      <td>351.82</td>\n",
       "    </tr>\n",
       "    <tr>\n",
       "      <th>358</th>\n",
       "      <td>{'n': 100, 'p': 10, 'd': [[0, 8.22, 8.64, 0.75...</td>\n",
       "      <td>{64, 70, 43, 79, 16, 20, 86, 59, 60, 93}</td>\n",
       "      <td>350.18</td>\n",
       "    </tr>\n",
       "    <tr>\n",
       "      <th>181</th>\n",
       "      <td>{'n': 100, 'p': 10, 'd': [[0, 8.22, 8.64, 0.75...</td>\n",
       "      <td>{5, 70, 39, 8, 74, 43, 14, 79, 17, 60}</td>\n",
       "      <td>349.53</td>\n",
       "    </tr>\n",
       "    <tr>\n",
       "      <th>31</th>\n",
       "      <td>{'n': 100, 'p': 10, 'd': [[0, 8.22, 8.64, 0.75...</td>\n",
       "      <td>{66, 3, 14, 78, 15, 83, 53, 56, 61, 94}</td>\n",
       "      <td>349.45</td>\n",
       "    </tr>\n",
       "    <tr>\n",
       "      <th>...</th>\n",
       "      <td>...</td>\n",
       "      <td>...</td>\n",
       "      <td>...</td>\n",
       "    </tr>\n",
       "    <tr>\n",
       "      <th>409</th>\n",
       "      <td>{'n': 100, 'p': 10, 'd': [[0, 8.22, 8.64, 0.75...</td>\n",
       "      <td>{34, 74, 75, 12, 82, 23, 21, 55, 88, 89}</td>\n",
       "      <td>317.91</td>\n",
       "    </tr>\n",
       "    <tr>\n",
       "      <th>191</th>\n",
       "      <td>{'n': 100, 'p': 10, 'd': [[0, 8.22, 8.64, 0.75...</td>\n",
       "      <td>{32, 1, 3, 4, 70, 8, 79, 84, 54, 30}</td>\n",
       "      <td>317.78</td>\n",
       "    </tr>\n",
       "    <tr>\n",
       "      <th>562</th>\n",
       "      <td>{'n': 100, 'p': 10, 'd': [[0, 8.22, 8.64, 0.75...</td>\n",
       "      <td>{1, 39, 44, 77, 18, 55, 54, 87, 21, 30}</td>\n",
       "      <td>316.04</td>\n",
       "    </tr>\n",
       "    <tr>\n",
       "      <th>653</th>\n",
       "      <td>{'n': 100, 'p': 10, 'd': [[0, 8.22, 8.64, 0.75...</td>\n",
       "      <td>{0, 71, 9, 43, 77, 78, 79, 21, 24, 31}</td>\n",
       "      <td>312.78</td>\n",
       "    </tr>\n",
       "    <tr>\n",
       "      <th>625</th>\n",
       "      <td>{'n': 100, 'p': 10, 'd': [[0, 8.22, 8.64, 0.75...</td>\n",
       "      <td>{47, 48, 17, 50, 81, 52, 18, 54, 26, 27}</td>\n",
       "      <td>312.60</td>\n",
       "    </tr>\n",
       "  </tbody>\n",
       "</table>\n",
       "<p>415 rows × 3 columns</p>\n",
       "</div>"
      ],
      "text/plain": [
       "                                              instance  \\\n",
       "55   {'n': 100, 'p': 10, 'd': [[0, 8.22, 8.64, 0.75...   \n",
       "34   {'n': 100, 'p': 10, 'd': [[0, 8.22, 8.64, 0.75...   \n",
       "358  {'n': 100, 'p': 10, 'd': [[0, 8.22, 8.64, 0.75...   \n",
       "181  {'n': 100, 'p': 10, 'd': [[0, 8.22, 8.64, 0.75...   \n",
       "31   {'n': 100, 'p': 10, 'd': [[0, 8.22, 8.64, 0.75...   \n",
       "..                                                 ...   \n",
       "409  {'n': 100, 'p': 10, 'd': [[0, 8.22, 8.64, 0.75...   \n",
       "191  {'n': 100, 'p': 10, 'd': [[0, 8.22, 8.64, 0.75...   \n",
       "562  {'n': 100, 'p': 10, 'd': [[0, 8.22, 8.64, 0.75...   \n",
       "653  {'n': 100, 'p': 10, 'd': [[0, 8.22, 8.64, 0.75...   \n",
       "625  {'n': 100, 'p': 10, 'd': [[0, 8.22, 8.64, 0.75...   \n",
       "\n",
       "                                          sol      of  \n",
       "55   {64, 96, 13, 15, 51, 20, 86, 55, 59, 93}  354.25  \n",
       "34    {98, 2, 37, 90, 59, 12, 20, 26, 91, 63}  351.82  \n",
       "358  {64, 70, 43, 79, 16, 20, 86, 59, 60, 93}  350.18  \n",
       "181    {5, 70, 39, 8, 74, 43, 14, 79, 17, 60}  349.53  \n",
       "31    {66, 3, 14, 78, 15, 83, 53, 56, 61, 94}  349.45  \n",
       "..                                        ...     ...  \n",
       "409  {34, 74, 75, 12, 82, 23, 21, 55, 88, 89}  317.91  \n",
       "191      {32, 1, 3, 4, 70, 8, 79, 84, 54, 30}  317.78  \n",
       "562   {1, 39, 44, 77, 18, 55, 54, 87, 21, 30}  316.04  \n",
       "653    {0, 71, 9, 43, 77, 78, 79, 21, 24, 31}  312.78  \n",
       "625  {47, 48, 17, 50, 81, 52, 18, 54, 26, 27}  312.60  \n",
       "\n",
       "[415 rows x 3 columns]"
      ]
     },
     "execution_count": 20,
     "metadata": {},
     "output_type": "execute_result"
    }
   ],
   "source": [
    "conjunto_soluciones_pd.sort_values(\"of\", ascending=False)"
   ]
  },
  {
   "cell_type": "code",
   "execution_count": 21,
   "id": "1be152ce",
   "metadata": {},
   "outputs": [
    {
     "data": {
      "text/html": [
       "<div>\n",
       "<style scoped>\n",
       "    .dataframe tbody tr th:only-of-type {\n",
       "        vertical-align: middle;\n",
       "    }\n",
       "\n",
       "    .dataframe tbody tr th {\n",
       "        vertical-align: top;\n",
       "    }\n",
       "\n",
       "    .dataframe thead th {\n",
       "        text-align: right;\n",
       "    }\n",
       "</style>\n",
       "<table border=\"1\" class=\"dataframe\">\n",
       "  <thead>\n",
       "    <tr style=\"text-align: right;\">\n",
       "      <th></th>\n",
       "      <th>instance</th>\n",
       "      <th>sol</th>\n",
       "      <th>of</th>\n",
       "      <th>n_distintos</th>\n",
       "    </tr>\n",
       "  </thead>\n",
       "  <tbody>\n",
       "    <tr>\n",
       "      <th>34</th>\n",
       "      <td>{'n': 100, 'p': 10, 'd': [[0, 8.22, 8.64, 0.75...</td>\n",
       "      <td>{98, 2, 37, 90, 59, 12, 20, 26, 91, 63}</td>\n",
       "      <td>351.82</td>\n",
       "      <td>8</td>\n",
       "    </tr>\n",
       "    <tr>\n",
       "      <th>358</th>\n",
       "      <td>{'n': 100, 'p': 10, 'd': [[0, 8.22, 8.64, 0.75...</td>\n",
       "      <td>{64, 70, 43, 79, 16, 20, 86, 59, 60, 93}</td>\n",
       "      <td>350.18</td>\n",
       "      <td>5</td>\n",
       "    </tr>\n",
       "    <tr>\n",
       "      <th>181</th>\n",
       "      <td>{'n': 100, 'p': 10, 'd': [[0, 8.22, 8.64, 0.75...</td>\n",
       "      <td>{5, 70, 39, 8, 74, 43, 14, 79, 17, 60}</td>\n",
       "      <td>349.53</td>\n",
       "      <td>10</td>\n",
       "    </tr>\n",
       "    <tr>\n",
       "      <th>31</th>\n",
       "      <td>{'n': 100, 'p': 10, 'd': [[0, 8.22, 8.64, 0.75...</td>\n",
       "      <td>{66, 3, 14, 78, 15, 83, 53, 56, 61, 94}</td>\n",
       "      <td>349.45</td>\n",
       "      <td>9</td>\n",
       "    </tr>\n",
       "    <tr>\n",
       "      <th>145</th>\n",
       "      <td>{'n': 100, 'p': 10, 'd': [[0, 8.22, 8.64, 0.75...</td>\n",
       "      <td>{2, 98, 37, 15, 16, 20, 86, 59, 60, 93}</td>\n",
       "      <td>349.36</td>\n",
       "      <td>5</td>\n",
       "    </tr>\n",
       "    <tr>\n",
       "      <th>...</th>\n",
       "      <td>...</td>\n",
       "      <td>...</td>\n",
       "      <td>...</td>\n",
       "      <td>...</td>\n",
       "    </tr>\n",
       "    <tr>\n",
       "      <th>409</th>\n",
       "      <td>{'n': 100, 'p': 10, 'd': [[0, 8.22, 8.64, 0.75...</td>\n",
       "      <td>{34, 74, 75, 12, 82, 23, 21, 55, 88, 89}</td>\n",
       "      <td>317.91</td>\n",
       "      <td>9</td>\n",
       "    </tr>\n",
       "    <tr>\n",
       "      <th>191</th>\n",
       "      <td>{'n': 100, 'p': 10, 'd': [[0, 8.22, 8.64, 0.75...</td>\n",
       "      <td>{32, 1, 3, 4, 70, 8, 79, 84, 54, 30}</td>\n",
       "      <td>317.78</td>\n",
       "      <td>10</td>\n",
       "    </tr>\n",
       "    <tr>\n",
       "      <th>562</th>\n",
       "      <td>{'n': 100, 'p': 10, 'd': [[0, 8.22, 8.64, 0.75...</td>\n",
       "      <td>{1, 39, 44, 77, 18, 55, 54, 87, 21, 30}</td>\n",
       "      <td>316.04</td>\n",
       "      <td>9</td>\n",
       "    </tr>\n",
       "    <tr>\n",
       "      <th>653</th>\n",
       "      <td>{'n': 100, 'p': 10, 'd': [[0, 8.22, 8.64, 0.75...</td>\n",
       "      <td>{0, 71, 9, 43, 77, 78, 79, 21, 24, 31}</td>\n",
       "      <td>312.78</td>\n",
       "      <td>10</td>\n",
       "    </tr>\n",
       "    <tr>\n",
       "      <th>625</th>\n",
       "      <td>{'n': 100, 'p': 10, 'd': [[0, 8.22, 8.64, 0.75...</td>\n",
       "      <td>{47, 48, 17, 50, 81, 52, 18, 54, 26, 27}</td>\n",
       "      <td>312.60</td>\n",
       "      <td>10</td>\n",
       "    </tr>\n",
       "  </tbody>\n",
       "</table>\n",
       "<p>414 rows × 4 columns</p>\n",
       "</div>"
      ],
      "text/plain": [
       "                                              instance  \\\n",
       "34   {'n': 100, 'p': 10, 'd': [[0, 8.22, 8.64, 0.75...   \n",
       "358  {'n': 100, 'p': 10, 'd': [[0, 8.22, 8.64, 0.75...   \n",
       "181  {'n': 100, 'p': 10, 'd': [[0, 8.22, 8.64, 0.75...   \n",
       "31   {'n': 100, 'p': 10, 'd': [[0, 8.22, 8.64, 0.75...   \n",
       "145  {'n': 100, 'p': 10, 'd': [[0, 8.22, 8.64, 0.75...   \n",
       "..                                                 ...   \n",
       "409  {'n': 100, 'p': 10, 'd': [[0, 8.22, 8.64, 0.75...   \n",
       "191  {'n': 100, 'p': 10, 'd': [[0, 8.22, 8.64, 0.75...   \n",
       "562  {'n': 100, 'p': 10, 'd': [[0, 8.22, 8.64, 0.75...   \n",
       "653  {'n': 100, 'p': 10, 'd': [[0, 8.22, 8.64, 0.75...   \n",
       "625  {'n': 100, 'p': 10, 'd': [[0, 8.22, 8.64, 0.75...   \n",
       "\n",
       "                                          sol      of  n_distintos  \n",
       "34    {98, 2, 37, 90, 59, 12, 20, 26, 91, 63}  351.82            8  \n",
       "358  {64, 70, 43, 79, 16, 20, 86, 59, 60, 93}  350.18            5  \n",
       "181    {5, 70, 39, 8, 74, 43, 14, 79, 17, 60}  349.53           10  \n",
       "31    {66, 3, 14, 78, 15, 83, 53, 56, 61, 94}  349.45            9  \n",
       "145   {2, 98, 37, 15, 16, 20, 86, 59, 60, 93}  349.36            5  \n",
       "..                                        ...     ...          ...  \n",
       "409  {34, 74, 75, 12, 82, 23, 21, 55, 88, 89}  317.91            9  \n",
       "191      {32, 1, 3, 4, 70, 8, 79, 84, 54, 30}  317.78           10  \n",
       "562   {1, 39, 44, 77, 18, 55, 54, 87, 21, 30}  316.04            9  \n",
       "653    {0, 71, 9, 43, 77, 78, 79, 21, 24, 31}  312.78           10  \n",
       "625  {47, 48, 17, 50, 81, 52, 18, 54, 26, 27}  312.60           10  \n",
       "\n",
       "[414 rows x 4 columns]"
      ]
     },
     "execution_count": 21,
     "metadata": {},
     "output_type": "execute_result"
    }
   ],
   "source": [
    "sol_max = conjunto_soluciones_pd[conjunto_soluciones_pd[\"of\"] == max(conjunto_soluciones_pd[\"of\"])].iloc[0,1]\n",
    "conjunto_soluciones_pd[\"n_distintos\"] = conjunto_soluciones_pd[\"sol\"].map(lambda x: len(x.difference(sol_max)))\n",
    "conjunto_soluciones_pd[conjunto_soluciones_pd[\"n_distintos\"] > 0].sort_values(\"of\", ascending=False)"
   ]
  },
  {
   "cell_type": "code",
   "execution_count": 22,
   "id": "b841e21a",
   "metadata": {},
   "outputs": [],
   "source": [
    "sol_0 = conjunto_soluciones[14]\n",
    "sol_1 = conjunto_soluciones[57]"
   ]
  },
  {
   "cell_type": "code",
   "execution_count": 23,
   "id": "4d3e6c6e",
   "metadata": {},
   "outputs": [
    {
     "name": "stdout",
     "output_type": "stream",
     "text": [
      "{97, 6, 27, 14, 79, 21, 23, 57, 59, 29}\n"
     ]
    }
   ],
   "source": [
    "def transicion(sol_0, sol_1):\n",
    "    best = None\n",
    "    resultado = 0\n",
    "    sol_2 = deepcopy(sol_0)\n",
    "    sol_guia = deepcopy(sol_1)\n",
    "    sol_guia[\"sol\"] = sol_guia[\"sol\"].difference(sol_0[\"sol\"])\n",
    "    for s0 in sol_0[\"sol\"]:\n",
    "        for s1 in sol_guia[\"sol\"]:\n",
    "            if s1 not in sol_0[\"sol\"]:\n",
    "                sol_2[\"sol\"].remove(s0)\n",
    "                sol_2[\"sol\"].add(s1)\n",
    "                sol_2[\"of\"] = evaluate(sol_2)\n",
    "                if best is None or sol_2[\"of\"] > best[\"of\"]:\n",
    "                    anyadido = s1\n",
    "                    best = deepcopy(sol_2)\n",
    "                sol_2[\"sol\"].remove(s1)\n",
    "                sol_2[\"sol\"].add(s0)\n",
    "    \n",
    "    sol_guia[\"sol\"].remove(anyadido)\n",
    "\n",
    "    if len(sol_guia[\"sol\"]) > 1:\n",
    "        resultado = transicion(best, sol_guia)\n",
    "\n",
    "        if resultado[\"of\"] < best[\"of\"]:\n",
    "            resultado = best\n",
    "    else:\n",
    "        print(best[\"sol\"])\n",
    "        resultado = best\n",
    "    \n",
    "\n",
    "    return resultado\n",
    "\n",
    "best = transicion(sol_0, sol_1)"
   ]
  },
  {
   "cell_type": "code",
   "execution_count": 24,
   "id": "5968f17b",
   "metadata": {},
   "outputs": [
    {
     "data": {
      "text/plain": [
       "331.25000000000006"
      ]
     },
     "execution_count": 24,
     "metadata": {},
     "output_type": "execute_result"
    }
   ],
   "source": [
    "best[\"of\"]"
   ]
  },
  {
   "cell_type": "code",
   "execution_count": 25,
   "id": "43a33463",
   "metadata": {},
   "outputs": [
    {
     "data": {
      "text/plain": [
       "341.29999999999995"
      ]
     },
     "execution_count": 25,
     "metadata": {},
     "output_type": "execute_result"
    }
   ],
   "source": [
    "sol_0[\"of\"]"
   ]
  },
  {
   "cell_type": "code",
   "execution_count": 26,
   "id": "61838372",
   "metadata": {},
   "outputs": [
    {
     "data": {
      "text/plain": [
       "{9, 32, 33, 37, 47, 51, 55, 59, 64, 85}"
      ]
     },
     "execution_count": 26,
     "metadata": {},
     "output_type": "execute_result"
    }
   ],
   "source": [
    "sol_1[\"sol\"]"
   ]
  },
  {
   "cell_type": "markdown",
   "id": "0adfb164",
   "metadata": {},
   "source": [
    "### Opción para el Path Relinking"
   ]
  },
  {
   "cell_type": "code",
   "execution_count": 27,
   "id": "92888156",
   "metadata": {},
   "outputs": [],
   "source": [
    "def relink(inicio, guia):\n",
    "    current = deepcopy(inicio)\n",
    "    best = deepcopy(inicio)\n",
    "\n",
    "    to_add = guia[\"sol\"] - current[\"sol\"]\n",
    "    to_remove = current[\"sol\"] - guia[\"sol\"]\n",
    "\n",
    "    while to_add:\n",
    "        vecinos = []\n",
    "        for a in to_add:\n",
    "            for r in to_remove:\n",
    "                nuevo = deepcopy(current)\n",
    "                nuevo[\"sol\"].remove(r)\n",
    "                nuevo[\"sol\"].add(a)\n",
    "                nuevo[\"of\"] = evaluate(nuevo)\n",
    "                vecinos.append(nuevo)\n",
    "        if not vecinos:\n",
    "            break\n",
    "        current = max(vecinos, key=lambda s: s[\"of\"])\n",
    "        if current[\"of\"] > best[\"of\"]:\n",
    "            best = deepcopy(current)\n",
    "\n",
    "        to_add = guia[\"sol\"] - current[\"sol\"]\n",
    "        to_remove = current[\"sol\"] - guia[\"sol\"]\n",
    "\n",
    "    return best\n"
   ]
  },
  {
   "cell_type": "code",
   "execution_count": 28,
   "id": "c85bbdf9",
   "metadata": {},
   "outputs": [
    {
     "name": "stdout",
     "output_type": "stream",
     "text": [
      "Mejor solución encontrada por Path Relinking:\n",
      "Conjunto: {64, 96, 13, 15, 51, 20, 86, 55, 59, 93}\n",
      "Valor objetivo: 354.25\n"
     ]
    }
   ],
   "source": [
    "# Seleccionamos las 5 mejores soluciones distintas (se puede modificar el nº de soluciones que se toman)\n",
    "elite_df = conjunto_soluciones_pd.sort_values(\"of\", ascending=False).drop_duplicates(\"sol\").head(5)\n",
    "elite_solutions = elite_df.to_dict(\"records\")\n",
    "\n",
    "# Aplicamos Path Relinking entre todos los pares de soluciones\n",
    "mejor_pr = None\n",
    "for i in range(len(elite_solutions)):\n",
    "    for j in range(i+1, len(elite_solutions)):\n",
    "        s1 = elite_solutions[i]\n",
    "        s2 = elite_solutions[j]\n",
    "        pr1 = relink(s1, s2)\n",
    "        pr2 = relink(s2, s1)\n",
    "        for cand in [pr1, pr2]:\n",
    "            if mejor_pr is None or cand[\"of\"] > mejor_pr[\"of\"]:\n",
    "                mejor_pr = cand\n",
    "\n",
    "# Mostramos la mejor solución obtenida por Path Relinking\n",
    "print(\"Mejor solución encontrada por Path Relinking:\")\n",
    "print(\"Conjunto:\", mejor_pr[\"sol\"])\n",
    "print(\"Valor objetivo:\", mejor_pr[\"of\"])\n"
   ]
  },
  {
   "cell_type": "code",
   "execution_count": null,
   "id": "a2c5ca23",
   "metadata": {},
   "outputs": [
    {
     "name": "stdout",
     "output_type": "stream",
     "text": [
      "                                             instance  \\\n",
      "0   {'n': 100, 'p': 10, 'd': [[0, 8.22, 8.64, 0.75...   \n",
      "8   {'n': 100, 'p': 10, 'd': [[0, 8.22, 8.64, 0.75...   \n",
      "14  {'n': 100, 'p': 10, 'd': [[0, 8.22, 8.64, 0.75...   \n",
      "18  {'n': 100, 'p': 10, 'd': [[0, 8.22, 8.64, 0.75...   \n",
      "\n",
      "                                         sol      of  n_distintos  \n",
      "0   {64, 96, 13, 15, 51, 20, 86, 55, 59, 93}  354.25            0  \n",
      "8    {98, 2, 26, 37, 91, 12, 20, 90, 59, 63}  351.82            8  \n",
      "14  {64, 70, 43, 79, 16, 20, 86, 59, 60, 93}  350.18            5  \n",
      "18    {5, 70, 39, 8, 74, 43, 14, 79, 17, 60}  349.53           10  \n",
      "\n",
      "Total de soluciones generadas por PR: 4\n"
     ]
    }
   ],
   "source": [
    "# Repetimos el bucle anterior, aunque esta vez para guardar todas las soluciones\n",
    "soluciones_pr = []\n",
    "\n",
    "for i in range(len(elite_solutions)):\n",
    "    for j in range(i + 1, len(elite_solutions)):\n",
    "        s1 = elite_solutions[i]\n",
    "        s2 = elite_solutions[j]\n",
    "        pr1 = relink(s1, s2)\n",
    "        pr2 = relink(s2, s1)\n",
    "        soluciones_pr.extend([pr1, pr2])\n",
    "\n",
    "# Convertimos a DataFrame para análisis posterior\n",
    "df_pr = pd.DataFrame(soluciones_pr).drop_duplicates(subset=\"sol\")\n",
    "print(\"\\nTop 5 soluciones PR:\")\n",
    "print(df_pr.sort_values(\"of\", ascending=False).head(5))\n",
    "\n",
    "print(f\"\\nTotal de soluciones generadas por PR: {len(df_pr)}\")"
   ]
  }
 ],
 "metadata": {
  "kernelspec": {
   "display_name": "base",
   "language": "python",
   "name": "python3"
  },
  "language_info": {
   "codemirror_mode": {
    "name": "ipython",
    "version": 3
   },
   "file_extension": ".py",
   "mimetype": "text/x-python",
   "name": "python",
   "nbconvert_exporter": "python",
   "pygments_lexer": "ipython3",
   "version": "3.12.3"
  }
 },
 "nbformat": 4,
 "nbformat_minor": 5
}
