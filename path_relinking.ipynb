{
 "cells": [
  {
   "cell_type": "markdown",
   "id": "2eecb115",
   "metadata": {},
   "source": [
    "# Implementación Path Relinking\n",
    "---"
   ]
  },
  {
   "cell_type": "code",
   "execution_count": 3,
   "id": "61bb7cf2",
   "metadata": {},
   "outputs": [],
   "source": [
    "from structure import instance, solution\n",
    "from algorithms import grasp\n",
    "from structure.solution import evaluate\n",
    "from copy import deepcopy\n",
    "import pandas as pd\n",
    "import random"
   ]
  },
  {
   "cell_type": "code",
   "execution_count": 4,
   "id": "cf41a7af",
   "metadata": {},
   "outputs": [],
   "source": [
    "path = \"instances/MDG-a_12_100_m10.txt\"\n",
    "inst = instance.readInstance(path)\n",
    "sol, conjunto_soluciones, tiempo_final_grasp = grasp.execute(inst, 1, 0.1)"
   ]
  },
  {
   "cell_type": "code",
   "execution_count": 5,
   "id": "540ce189",
   "metadata": {},
   "outputs": [],
   "source": [
    "conjunto_soluciones_pd = pd.DataFrame(conjunto_soluciones)\n",
    "conjunto_soluciones_pd = conjunto_soluciones_pd.drop_duplicates(\"sol\")"
   ]
  },
  {
   "cell_type": "code",
   "execution_count": 6,
   "id": "37bdaec0",
   "metadata": {},
   "outputs": [
    {
     "data": {
      "text/html": [
       "<div>\n",
       "<style scoped>\n",
       "    .dataframe tbody tr th:only-of-type {\n",
       "        vertical-align: middle;\n",
       "    }\n",
       "\n",
       "    .dataframe tbody tr th {\n",
       "        vertical-align: top;\n",
       "    }\n",
       "\n",
       "    .dataframe thead th {\n",
       "        text-align: right;\n",
       "    }\n",
       "</style>\n",
       "<table border=\"1\" class=\"dataframe\">\n",
       "  <thead>\n",
       "    <tr style=\"text-align: right;\">\n",
       "      <th></th>\n",
       "      <th>instance</th>\n",
       "      <th>sol</th>\n",
       "      <th>of</th>\n",
       "    </tr>\n",
       "  </thead>\n",
       "  <tbody>\n",
       "    <tr>\n",
       "      <th>5</th>\n",
       "      <td>{'n': 100, 'p': 10, 'd': [[0, 8.22, 8.64, 0.75...</td>\n",
       "      <td>{64, 96, 13, 15, 51, 20, 86, 55, 59, 93}</td>\n",
       "      <td>354.25</td>\n",
       "    </tr>\n",
       "    <tr>\n",
       "      <th>62</th>\n",
       "      <td>{'n': 100, 'p': 10, 'd': [[0, 8.22, 8.64, 0.75...</td>\n",
       "      <td>{98, 2, 37, 90, 91, 12, 20, 26, 59, 63}</td>\n",
       "      <td>351.82</td>\n",
       "    </tr>\n",
       "    <tr>\n",
       "      <th>44</th>\n",
       "      <td>{'n': 100, 'p': 10, 'd': [[0, 8.22, 8.64, 0.75...</td>\n",
       "      <td>{64, 70, 43, 79, 16, 20, 86, 59, 60, 93}</td>\n",
       "      <td>350.18</td>\n",
       "    </tr>\n",
       "    <tr>\n",
       "      <th>46</th>\n",
       "      <td>{'n': 100, 'p': 10, 'd': [[0, 8.22, 8.64, 0.75...</td>\n",
       "      <td>{5, 70, 39, 8, 74, 43, 14, 79, 17, 60}</td>\n",
       "      <td>349.53</td>\n",
       "    </tr>\n",
       "    <tr>\n",
       "      <th>68</th>\n",
       "      <td>{'n': 100, 'p': 10, 'd': [[0, 8.22, 8.64, 0.75...</td>\n",
       "      <td>{66, 3, 14, 15, 78, 83, 53, 56, 61, 94}</td>\n",
       "      <td>349.45</td>\n",
       "    </tr>\n",
       "    <tr>\n",
       "      <th>...</th>\n",
       "      <td>...</td>\n",
       "      <td>...</td>\n",
       "      <td>...</td>\n",
       "    </tr>\n",
       "    <tr>\n",
       "      <th>530</th>\n",
       "      <td>{'n': 100, 'p': 10, 'd': [[0, 8.22, 8.64, 0.75...</td>\n",
       "      <td>{97, 98, 3, 73, 44, 46, 82, 23, 57, 29}</td>\n",
       "      <td>320.14</td>\n",
       "    </tr>\n",
       "    <tr>\n",
       "      <th>527</th>\n",
       "      <td>{'n': 100, 'p': 10, 'd': [[0, 8.22, 8.64, 0.75...</td>\n",
       "      <td>{96, 35, 5, 41, 42, 13, 22, 25, 26, 31}</td>\n",
       "      <td>319.35</td>\n",
       "    </tr>\n",
       "    <tr>\n",
       "      <th>317</th>\n",
       "      <td>{'n': 100, 'p': 10, 'd': [[0, 8.22, 8.64, 0.75...</td>\n",
       "      <td>{67, 26, 72, 40, 75, 81, 85, 22, 24, 58}</td>\n",
       "      <td>317.13</td>\n",
       "    </tr>\n",
       "    <tr>\n",
       "      <th>191</th>\n",
       "      <td>{'n': 100, 'p': 10, 'd': [[0, 8.22, 8.64, 0.75...</td>\n",
       "      <td>{96, 67, 4, 70, 73, 41, 83, 84, 22, 30}</td>\n",
       "      <td>312.50</td>\n",
       "    </tr>\n",
       "    <tr>\n",
       "      <th>93</th>\n",
       "      <td>{'n': 100, 'p': 10, 'd': [[0, 8.22, 8.64, 0.75...</td>\n",
       "      <td>{4, 69, 68, 44, 85, 54, 87, 88, 29, 30}</td>\n",
       "      <td>310.02</td>\n",
       "    </tr>\n",
       "  </tbody>\n",
       "</table>\n",
       "<p>344 rows × 3 columns</p>\n",
       "</div>"
      ],
      "text/plain": [
       "                                              instance  \\\n",
       "5    {'n': 100, 'p': 10, 'd': [[0, 8.22, 8.64, 0.75...   \n",
       "62   {'n': 100, 'p': 10, 'd': [[0, 8.22, 8.64, 0.75...   \n",
       "44   {'n': 100, 'p': 10, 'd': [[0, 8.22, 8.64, 0.75...   \n",
       "46   {'n': 100, 'p': 10, 'd': [[0, 8.22, 8.64, 0.75...   \n",
       "68   {'n': 100, 'p': 10, 'd': [[0, 8.22, 8.64, 0.75...   \n",
       "..                                                 ...   \n",
       "530  {'n': 100, 'p': 10, 'd': [[0, 8.22, 8.64, 0.75...   \n",
       "527  {'n': 100, 'p': 10, 'd': [[0, 8.22, 8.64, 0.75...   \n",
       "317  {'n': 100, 'p': 10, 'd': [[0, 8.22, 8.64, 0.75...   \n",
       "191  {'n': 100, 'p': 10, 'd': [[0, 8.22, 8.64, 0.75...   \n",
       "93   {'n': 100, 'p': 10, 'd': [[0, 8.22, 8.64, 0.75...   \n",
       "\n",
       "                                          sol      of  \n",
       "5    {64, 96, 13, 15, 51, 20, 86, 55, 59, 93}  354.25  \n",
       "62    {98, 2, 37, 90, 91, 12, 20, 26, 59, 63}  351.82  \n",
       "44   {64, 70, 43, 79, 16, 20, 86, 59, 60, 93}  350.18  \n",
       "46     {5, 70, 39, 8, 74, 43, 14, 79, 17, 60}  349.53  \n",
       "68    {66, 3, 14, 15, 78, 83, 53, 56, 61, 94}  349.45  \n",
       "..                                        ...     ...  \n",
       "530   {97, 98, 3, 73, 44, 46, 82, 23, 57, 29}  320.14  \n",
       "527   {96, 35, 5, 41, 42, 13, 22, 25, 26, 31}  319.35  \n",
       "317  {67, 26, 72, 40, 75, 81, 85, 22, 24, 58}  317.13  \n",
       "191   {96, 67, 4, 70, 73, 41, 83, 84, 22, 30}  312.50  \n",
       "93    {4, 69, 68, 44, 85, 54, 87, 88, 29, 30}  310.02  \n",
       "\n",
       "[344 rows x 3 columns]"
      ]
     },
     "execution_count": 6,
     "metadata": {},
     "output_type": "execute_result"
    }
   ],
   "source": [
    "conjunto_soluciones_pd.sort_values(\"of\", ascending=False)"
   ]
  },
  {
   "cell_type": "code",
   "execution_count": 7,
   "id": "1be152ce",
   "metadata": {},
   "outputs": [
    {
     "data": {
      "text/html": [
       "<div>\n",
       "<style scoped>\n",
       "    .dataframe tbody tr th:only-of-type {\n",
       "        vertical-align: middle;\n",
       "    }\n",
       "\n",
       "    .dataframe tbody tr th {\n",
       "        vertical-align: top;\n",
       "    }\n",
       "\n",
       "    .dataframe thead th {\n",
       "        text-align: right;\n",
       "    }\n",
       "</style>\n",
       "<table border=\"1\" class=\"dataframe\">\n",
       "  <thead>\n",
       "    <tr style=\"text-align: right;\">\n",
       "      <th></th>\n",
       "      <th>instance</th>\n",
       "      <th>sol</th>\n",
       "      <th>of</th>\n",
       "      <th>n_distintos</th>\n",
       "    </tr>\n",
       "  </thead>\n",
       "  <tbody>\n",
       "    <tr>\n",
       "      <th>62</th>\n",
       "      <td>{'n': 100, 'p': 10, 'd': [[0, 8.22, 8.64, 0.75...</td>\n",
       "      <td>{98, 2, 37, 90, 91, 12, 20, 26, 59, 63}</td>\n",
       "      <td>351.82</td>\n",
       "      <td>8</td>\n",
       "    </tr>\n",
       "    <tr>\n",
       "      <th>44</th>\n",
       "      <td>{'n': 100, 'p': 10, 'd': [[0, 8.22, 8.64, 0.75...</td>\n",
       "      <td>{64, 70, 43, 79, 16, 20, 86, 59, 60, 93}</td>\n",
       "      <td>350.18</td>\n",
       "      <td>5</td>\n",
       "    </tr>\n",
       "    <tr>\n",
       "      <th>46</th>\n",
       "      <td>{'n': 100, 'p': 10, 'd': [[0, 8.22, 8.64, 0.75...</td>\n",
       "      <td>{5, 70, 39, 8, 74, 43, 14, 79, 17, 60}</td>\n",
       "      <td>349.53</td>\n",
       "      <td>10</td>\n",
       "    </tr>\n",
       "    <tr>\n",
       "      <th>68</th>\n",
       "      <td>{'n': 100, 'p': 10, 'd': [[0, 8.22, 8.64, 0.75...</td>\n",
       "      <td>{66, 3, 14, 15, 78, 83, 53, 56, 61, 94}</td>\n",
       "      <td>349.45</td>\n",
       "      <td>9</td>\n",
       "    </tr>\n",
       "    <tr>\n",
       "      <th>173</th>\n",
       "      <td>{'n': 100, 'p': 10, 'd': [[0, 8.22, 8.64, 0.75...</td>\n",
       "      <td>{2, 98, 37, 15, 16, 20, 86, 59, 60, 93}</td>\n",
       "      <td>349.36</td>\n",
       "      <td>5</td>\n",
       "    </tr>\n",
       "    <tr>\n",
       "      <th>...</th>\n",
       "      <td>...</td>\n",
       "      <td>...</td>\n",
       "      <td>...</td>\n",
       "      <td>...</td>\n",
       "    </tr>\n",
       "    <tr>\n",
       "      <th>530</th>\n",
       "      <td>{'n': 100, 'p': 10, 'd': [[0, 8.22, 8.64, 0.75...</td>\n",
       "      <td>{97, 98, 3, 73, 44, 46, 82, 23, 57, 29}</td>\n",
       "      <td>320.14</td>\n",
       "      <td>10</td>\n",
       "    </tr>\n",
       "    <tr>\n",
       "      <th>527</th>\n",
       "      <td>{'n': 100, 'p': 10, 'd': [[0, 8.22, 8.64, 0.75...</td>\n",
       "      <td>{96, 35, 5, 41, 42, 13, 22, 25, 26, 31}</td>\n",
       "      <td>319.35</td>\n",
       "      <td>8</td>\n",
       "    </tr>\n",
       "    <tr>\n",
       "      <th>317</th>\n",
       "      <td>{'n': 100, 'p': 10, 'd': [[0, 8.22, 8.64, 0.75...</td>\n",
       "      <td>{67, 26, 72, 40, 75, 81, 85, 22, 24, 58}</td>\n",
       "      <td>317.13</td>\n",
       "      <td>10</td>\n",
       "    </tr>\n",
       "    <tr>\n",
       "      <th>191</th>\n",
       "      <td>{'n': 100, 'p': 10, 'd': [[0, 8.22, 8.64, 0.75...</td>\n",
       "      <td>{96, 67, 4, 70, 73, 41, 83, 84, 22, 30}</td>\n",
       "      <td>312.50</td>\n",
       "      <td>9</td>\n",
       "    </tr>\n",
       "    <tr>\n",
       "      <th>93</th>\n",
       "      <td>{'n': 100, 'p': 10, 'd': [[0, 8.22, 8.64, 0.75...</td>\n",
       "      <td>{4, 69, 68, 44, 85, 54, 87, 88, 29, 30}</td>\n",
       "      <td>310.02</td>\n",
       "      <td>10</td>\n",
       "    </tr>\n",
       "  </tbody>\n",
       "</table>\n",
       "<p>343 rows × 4 columns</p>\n",
       "</div>"
      ],
      "text/plain": [
       "                                              instance  \\\n",
       "62   {'n': 100, 'p': 10, 'd': [[0, 8.22, 8.64, 0.75...   \n",
       "44   {'n': 100, 'p': 10, 'd': [[0, 8.22, 8.64, 0.75...   \n",
       "46   {'n': 100, 'p': 10, 'd': [[0, 8.22, 8.64, 0.75...   \n",
       "68   {'n': 100, 'p': 10, 'd': [[0, 8.22, 8.64, 0.75...   \n",
       "173  {'n': 100, 'p': 10, 'd': [[0, 8.22, 8.64, 0.75...   \n",
       "..                                                 ...   \n",
       "530  {'n': 100, 'p': 10, 'd': [[0, 8.22, 8.64, 0.75...   \n",
       "527  {'n': 100, 'p': 10, 'd': [[0, 8.22, 8.64, 0.75...   \n",
       "317  {'n': 100, 'p': 10, 'd': [[0, 8.22, 8.64, 0.75...   \n",
       "191  {'n': 100, 'p': 10, 'd': [[0, 8.22, 8.64, 0.75...   \n",
       "93   {'n': 100, 'p': 10, 'd': [[0, 8.22, 8.64, 0.75...   \n",
       "\n",
       "                                          sol      of  n_distintos  \n",
       "62    {98, 2, 37, 90, 91, 12, 20, 26, 59, 63}  351.82            8  \n",
       "44   {64, 70, 43, 79, 16, 20, 86, 59, 60, 93}  350.18            5  \n",
       "46     {5, 70, 39, 8, 74, 43, 14, 79, 17, 60}  349.53           10  \n",
       "68    {66, 3, 14, 15, 78, 83, 53, 56, 61, 94}  349.45            9  \n",
       "173   {2, 98, 37, 15, 16, 20, 86, 59, 60, 93}  349.36            5  \n",
       "..                                        ...     ...          ...  \n",
       "530   {97, 98, 3, 73, 44, 46, 82, 23, 57, 29}  320.14           10  \n",
       "527   {96, 35, 5, 41, 42, 13, 22, 25, 26, 31}  319.35            8  \n",
       "317  {67, 26, 72, 40, 75, 81, 85, 22, 24, 58}  317.13           10  \n",
       "191   {96, 67, 4, 70, 73, 41, 83, 84, 22, 30}  312.50            9  \n",
       "93    {4, 69, 68, 44, 85, 54, 87, 88, 29, 30}  310.02           10  \n",
       "\n",
       "[343 rows x 4 columns]"
      ]
     },
     "execution_count": 7,
     "metadata": {},
     "output_type": "execute_result"
    }
   ],
   "source": [
    "sol_max = conjunto_soluciones_pd[conjunto_soluciones_pd[\"of\"] == max(conjunto_soluciones_pd[\"of\"])].iloc[0,1]\n",
    "conjunto_soluciones_pd[\"n_distintos\"] = conjunto_soluciones_pd[\"sol\"].map(lambda x: len(x.difference(sol_max)))\n",
    "conjunto_soluciones_pd[conjunto_soluciones_pd[\"n_distintos\"] > 0].sort_values(\"of\", ascending=False)"
   ]
  },
  {
   "cell_type": "code",
   "execution_count": 8,
   "id": "b841e21a",
   "metadata": {},
   "outputs": [],
   "source": [
    "sol_0 = conjunto_soluciones[14]\n",
    "sol_1 = conjunto_soluciones[57]"
   ]
  },
  {
   "cell_type": "code",
   "execution_count": 9,
   "id": "4d3e6c6e",
   "metadata": {},
   "outputs": [
    {
     "name": "stdout",
     "output_type": "stream",
     "text": [
      "{67, 5, 70, 43, 14, 79, 17, 50, 60, 61}\n"
     ]
    }
   ],
   "source": [
    "def transicion(sol_0, sol_1):\n",
    "    best = None\n",
    "    resultado = 0\n",
    "    sol_2 = deepcopy(sol_0)\n",
    "    sol_guia = deepcopy(sol_1)\n",
    "    sol_guia[\"sol\"] = sol_guia[\"sol\"].difference(sol_0[\"sol\"])\n",
    "    for s0 in sol_0[\"sol\"]:\n",
    "        for s1 in sol_guia[\"sol\"]:\n",
    "            if s1 not in sol_0[\"sol\"]:\n",
    "                sol_2[\"sol\"].remove(s0)\n",
    "                sol_2[\"sol\"].add(s1)\n",
    "                sol_2[\"of\"] = evaluate(sol_2)\n",
    "                if best is None or sol_2[\"of\"] > best[\"of\"]:\n",
    "                    anyadido = s1\n",
    "                    best = deepcopy(sol_2)\n",
    "                sol_2[\"sol\"].remove(s1)\n",
    "                sol_2[\"sol\"].add(s0)\n",
    "    \n",
    "    sol_guia[\"sol\"].remove(anyadido)\n",
    "\n",
    "    if len(sol_guia[\"sol\"]) > 1:\n",
    "        resultado = transicion(best, sol_guia)\n",
    "\n",
    "        if resultado[\"of\"] < best[\"of\"]:\n",
    "            resultado = best\n",
    "    else:\n",
    "        print(best[\"sol\"])\n",
    "        resultado = best\n",
    "    \n",
    "\n",
    "    return resultado\n",
    "\n",
    "best = transicion(sol_0, sol_1)"
   ]
  },
  {
   "cell_type": "code",
   "execution_count": 10,
   "id": "5968f17b",
   "metadata": {},
   "outputs": [
    {
     "data": {
      "text/plain": [
       "339.2"
      ]
     },
     "execution_count": 10,
     "metadata": {},
     "output_type": "execute_result"
    }
   ],
   "source": [
    "best[\"of\"]"
   ]
  },
  {
   "cell_type": "code",
   "execution_count": 11,
   "id": "43a33463",
   "metadata": {},
   "outputs": [
    {
     "data": {
      "text/plain": [
       "344.82"
      ]
     },
     "execution_count": 11,
     "metadata": {},
     "output_type": "execute_result"
    }
   ],
   "source": [
    "sol_0[\"of\"]"
   ]
  },
  {
   "cell_type": "code",
   "execution_count": 12,
   "id": "61838372",
   "metadata": {},
   "outputs": [
    {
     "data": {
      "text/plain": [
       "{13, 22, 24, 26, 58, 67, 72, 85, 90, 96}"
      ]
     },
     "execution_count": 12,
     "metadata": {},
     "output_type": "execute_result"
    }
   ],
   "source": [
    "sol_1[\"sol\"]"
   ]
  },
  {
   "cell_type": "markdown",
   "id": "0adfb164",
   "metadata": {},
   "source": [
    "### Opción para el Path Relinking"
   ]
  },
  {
   "cell_type": "code",
   "execution_count": null,
   "id": "92888156",
   "metadata": {},
   "outputs": [],
   "source": [
    "def relink(inicio, guia):\n",
    "    current = deepcopy(inicio)\n",
    "    best = deepcopy(inicio)x\n",
    "\n",
    "    to_add = guia[\"sol\"] - current[\"sol\"]\n",
    "    to_remove = current[\"sol\"] - guia[\"sol\"]\n",
    "\n",
    "    while to_add:\n",
    "        vecinos = []\n",
    "        for a in to_add:\n",
    "            for r in to_remove:\n",
    "                nuevo = deepcopy(current)\n",
    "                nuevo[\"sol\"].remove(r)\n",
    "                nuevo[\"sol\"].add(a)\n",
    "                nuevo[\"of\"] = evaluate(nuevo)\n",
    "                vecinos.append(nuevo)\n",
    "        if not vecinos:\n",
    "            break\n",
    "        current = max(vecinos, key=lambda s: s[\"of\"])\n",
    "        if current[\"of\"] > best[\"of\"]:\n",
    "            best = deepcopy(current)\n",
    "\n",
    "        to_add = guia[\"sol\"] - current[\"sol\"]\n",
    "        to_remove = current[\"sol\"] - guia[\"sol\"]\n",
    "\n",
    "    return best\n"
   ]
  },
  {
   "cell_type": "code",
   "execution_count": 14,
   "id": "c85bbdf9",
   "metadata": {},
   "outputs": [
    {
     "name": "stdout",
     "output_type": "stream",
     "text": [
      "Mejor solución encontrada por Path Relinking:\n",
      "Conjunto: {64, 96, 13, 15, 51, 20, 86, 55, 59, 93}\n",
      "Valor objetivo: 354.25000000000006\n"
     ]
    }
   ],
   "source": [
    "# Seleccionamos las 5 mejores soluciones distintas (se puede modificar el nº de soluciones que se toman)\n",
    "elite_df = conjunto_soluciones_pd.sort_values(\"of\", ascending=False).drop_duplicates(\"sol\").head(5)\n",
    "elite_solutions = elite_df.to_dict(\"records\")\n",
    "\n",
    "# Aplicamos Path Relinking entre todos los pares de soluciones\n",
    "mejor_pr = None\n",
    "for i in range(len(elite_solutions)):\n",
    "    for j in range(i+1, len(elite_solutions)):\n",
    "        s1 = elite_solutions[i]\n",
    "        s2 = elite_solutions[j]\n",
    "        pr1 = relink(s1, s2)\n",
    "        pr2 = relink(s2, s1)\n",
    "        for cand in [pr1, pr2]:\n",
    "            if mejor_pr is None or cand[\"of\"] > mejor_pr[\"of\"]:\n",
    "                mejor_pr = cand\n",
    "\n",
    "# Mostramos la mejor solución obtenida por Path Relinking\n",
    "print(\"Mejor solución encontrada por Path Relinking:\")\n",
    "print(\"Conjunto:\", mejor_pr[\"sol\"])\n",
    "print(\"Valor objetivo:\", mejor_pr[\"of\"])\n"
   ]
  }
 ],
 "metadata": {
  "kernelspec": {
   "display_name": "base",
   "language": "python",
   "name": "python3"
  },
  "language_info": {
   "codemirror_mode": {
    "name": "ipython",
    "version": 3
   },
   "file_extension": ".py",
   "mimetype": "text/x-python",
   "name": "python",
   "nbconvert_exporter": "python",
   "pygments_lexer": "ipython3",
   "version": "3.12.3"
  }
 },
 "nbformat": 4,
 "nbformat_minor": 5
}
