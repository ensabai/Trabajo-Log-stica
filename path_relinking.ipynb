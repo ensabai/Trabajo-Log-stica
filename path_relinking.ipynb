{
 "cells": [
  {
   "cell_type": "markdown",
   "id": "2eecb115",
   "metadata": {},
   "source": [
    "# Implementación Path Relinking\n",
    "---"
   ]
  },
  {
   "cell_type": "code",
   "execution_count": 65,
   "id": "61bb7cf2",
   "metadata": {},
   "outputs": [],
   "source": [
    "from structure import instance, solution\n",
    "from algorithms import grasp\n",
    "from structure.solution import evaluate\n",
    "from copy import deepcopy\n",
    "import pandas as pd\n",
    "import random"
   ]
  },
  {
   "cell_type": "code",
   "execution_count": 66,
   "id": "cf41a7af",
   "metadata": {},
   "outputs": [],
   "source": [
    "path = \"instances/MDG-a_12_100_m10.txt\"\n",
    "inst = instance.readInstance(path)\n",
    "sol, conjunto_soluciones, tiempo_final_grasp = grasp.execute(inst, 1, 0.1)"
   ]
  },
  {
   "cell_type": "code",
   "execution_count": 67,
   "id": "540ce189",
   "metadata": {},
   "outputs": [
    {
     "name": "stdout",
     "output_type": "stream",
     "text": [
      "775\n"
     ]
    }
   ],
   "source": [
    "conjunto_soluciones_pd = pd.DataFrame(conjunto_soluciones)\n",
    "print(len(conjunto_soluciones_pd))\n",
    "conjunto_soluciones_pd = conjunto_soluciones_pd.drop_duplicates(\"sol\")"
   ]
  },
  {
   "cell_type": "code",
   "execution_count": 68,
   "id": "37bdaec0",
   "metadata": {},
   "outputs": [
    {
     "data": {
      "text/html": [
       "<div>\n",
       "<style scoped>\n",
       "    .dataframe tbody tr th:only-of-type {\n",
       "        vertical-align: middle;\n",
       "    }\n",
       "\n",
       "    .dataframe tbody tr th {\n",
       "        vertical-align: top;\n",
       "    }\n",
       "\n",
       "    .dataframe thead th {\n",
       "        text-align: right;\n",
       "    }\n",
       "</style>\n",
       "<table border=\"1\" class=\"dataframe\">\n",
       "  <thead>\n",
       "    <tr style=\"text-align: right;\">\n",
       "      <th></th>\n",
       "      <th>instance</th>\n",
       "      <th>sol</th>\n",
       "      <th>of</th>\n",
       "    </tr>\n",
       "  </thead>\n",
       "  <tbody>\n",
       "    <tr>\n",
       "      <th>10</th>\n",
       "      <td>{'n': 100, 'p': 10, 'd': [[0, 8.22, 8.64, 0.75...</td>\n",
       "      <td>{64, 96, 13, 15, 51, 20, 86, 55, 59, 93}</td>\n",
       "      <td>354.25</td>\n",
       "    </tr>\n",
       "    <tr>\n",
       "      <th>75</th>\n",
       "      <td>{'n': 100, 'p': 10, 'd': [[0, 8.22, 8.64, 0.75...</td>\n",
       "      <td>{2, 98, 37, 90, 91, 12, 20, 26, 59, 63}</td>\n",
       "      <td>351.82</td>\n",
       "    </tr>\n",
       "    <tr>\n",
       "      <th>126</th>\n",
       "      <td>{'n': 100, 'p': 10, 'd': [[0, 8.22, 8.64, 0.75...</td>\n",
       "      <td>{64, 70, 43, 79, 16, 20, 86, 59, 60, 93}</td>\n",
       "      <td>350.18</td>\n",
       "    </tr>\n",
       "    <tr>\n",
       "      <th>8</th>\n",
       "      <td>{'n': 100, 'p': 10, 'd': [[0, 8.22, 8.64, 0.75...</td>\n",
       "      <td>{5, 70, 39, 8, 74, 43, 14, 79, 17, 60}</td>\n",
       "      <td>349.53</td>\n",
       "    </tr>\n",
       "    <tr>\n",
       "      <th>3</th>\n",
       "      <td>{'n': 100, 'p': 10, 'd': [[0, 8.22, 8.64, 0.75...</td>\n",
       "      <td>{66, 3, 78, 14, 15, 83, 53, 56, 61, 94}</td>\n",
       "      <td>349.45</td>\n",
       "    </tr>\n",
       "    <tr>\n",
       "      <th>...</th>\n",
       "      <td>...</td>\n",
       "      <td>...</td>\n",
       "      <td>...</td>\n",
       "    </tr>\n",
       "    <tr>\n",
       "      <th>209</th>\n",
       "      <td>{'n': 100, 'p': 10, 'd': [[0, 8.22, 8.64, 0.75...</td>\n",
       "      <td>{1, 97, 6, 77, 80, 18, 52, 26, 61, 62}</td>\n",
       "      <td>317.90</td>\n",
       "    </tr>\n",
       "    <tr>\n",
       "      <th>418</th>\n",
       "      <td>{'n': 100, 'p': 10, 'd': [[0, 8.22, 8.64, 0.75...</td>\n",
       "      <td>{1, 97, 80, 18, 83, 20, 21, 87, 61, 95}</td>\n",
       "      <td>315.60</td>\n",
       "    </tr>\n",
       "    <tr>\n",
       "      <th>140</th>\n",
       "      <td>{'n': 100, 'p': 10, 'd': [[0, 8.22, 8.64, 0.75...</td>\n",
       "      <td>{66, 35, 38, 39, 75, 13, 48, 17, 19, 58}</td>\n",
       "      <td>315.28</td>\n",
       "    </tr>\n",
       "    <tr>\n",
       "      <th>397</th>\n",
       "      <td>{'n': 100, 'p': 10, 'd': [[0, 8.22, 8.64, 0.75...</td>\n",
       "      <td>{0, 9, 43, 78, 14, 79, 17, 24, 61, 94}</td>\n",
       "      <td>315.16</td>\n",
       "    </tr>\n",
       "    <tr>\n",
       "      <th>611</th>\n",
       "      <td>{'n': 100, 'p': 10, 'd': [[0, 8.22, 8.64, 0.75...</td>\n",
       "      <td>{0, 99, 8, 9, 43, 76, 47, 17, 24, 94}</td>\n",
       "      <td>310.87</td>\n",
       "    </tr>\n",
       "  </tbody>\n",
       "</table>\n",
       "<p>453 rows × 3 columns</p>\n",
       "</div>"
      ],
      "text/plain": [
       "                                              instance  \\\n",
       "10   {'n': 100, 'p': 10, 'd': [[0, 8.22, 8.64, 0.75...   \n",
       "75   {'n': 100, 'p': 10, 'd': [[0, 8.22, 8.64, 0.75...   \n",
       "126  {'n': 100, 'p': 10, 'd': [[0, 8.22, 8.64, 0.75...   \n",
       "8    {'n': 100, 'p': 10, 'd': [[0, 8.22, 8.64, 0.75...   \n",
       "3    {'n': 100, 'p': 10, 'd': [[0, 8.22, 8.64, 0.75...   \n",
       "..                                                 ...   \n",
       "209  {'n': 100, 'p': 10, 'd': [[0, 8.22, 8.64, 0.75...   \n",
       "418  {'n': 100, 'p': 10, 'd': [[0, 8.22, 8.64, 0.75...   \n",
       "140  {'n': 100, 'p': 10, 'd': [[0, 8.22, 8.64, 0.75...   \n",
       "397  {'n': 100, 'p': 10, 'd': [[0, 8.22, 8.64, 0.75...   \n",
       "611  {'n': 100, 'p': 10, 'd': [[0, 8.22, 8.64, 0.75...   \n",
       "\n",
       "                                          sol      of  \n",
       "10   {64, 96, 13, 15, 51, 20, 86, 55, 59, 93}  354.25  \n",
       "75    {2, 98, 37, 90, 91, 12, 20, 26, 59, 63}  351.82  \n",
       "126  {64, 70, 43, 79, 16, 20, 86, 59, 60, 93}  350.18  \n",
       "8      {5, 70, 39, 8, 74, 43, 14, 79, 17, 60}  349.53  \n",
       "3     {66, 3, 78, 14, 15, 83, 53, 56, 61, 94}  349.45  \n",
       "..                                        ...     ...  \n",
       "209    {1, 97, 6, 77, 80, 18, 52, 26, 61, 62}  317.90  \n",
       "418   {1, 97, 80, 18, 83, 20, 21, 87, 61, 95}  315.60  \n",
       "140  {66, 35, 38, 39, 75, 13, 48, 17, 19, 58}  315.28  \n",
       "397    {0, 9, 43, 78, 14, 79, 17, 24, 61, 94}  315.16  \n",
       "611     {0, 99, 8, 9, 43, 76, 47, 17, 24, 94}  310.87  \n",
       "\n",
       "[453 rows x 3 columns]"
      ]
     },
     "execution_count": 68,
     "metadata": {},
     "output_type": "execute_result"
    }
   ],
   "source": [
    "conjunto_soluciones_pd.sort_values(\"of\", ascending=False)"
   ]
  },
  {
   "cell_type": "code",
   "execution_count": 69,
   "id": "1be152ce",
   "metadata": {},
   "outputs": [
    {
     "data": {
      "text/html": [
       "<div>\n",
       "<style scoped>\n",
       "    .dataframe tbody tr th:only-of-type {\n",
       "        vertical-align: middle;\n",
       "    }\n",
       "\n",
       "    .dataframe tbody tr th {\n",
       "        vertical-align: top;\n",
       "    }\n",
       "\n",
       "    .dataframe thead th {\n",
       "        text-align: right;\n",
       "    }\n",
       "</style>\n",
       "<table border=\"1\" class=\"dataframe\">\n",
       "  <thead>\n",
       "    <tr style=\"text-align: right;\">\n",
       "      <th></th>\n",
       "      <th>instance</th>\n",
       "      <th>sol</th>\n",
       "      <th>of</th>\n",
       "      <th>n_distintos</th>\n",
       "    </tr>\n",
       "  </thead>\n",
       "  <tbody>\n",
       "    <tr>\n",
       "      <th>75</th>\n",
       "      <td>{'n': 100, 'p': 10, 'd': [[0, 8.22, 8.64, 0.75...</td>\n",
       "      <td>{2, 98, 37, 90, 91, 12, 20, 26, 59, 63}</td>\n",
       "      <td>351.82</td>\n",
       "      <td>8</td>\n",
       "    </tr>\n",
       "    <tr>\n",
       "      <th>126</th>\n",
       "      <td>{'n': 100, 'p': 10, 'd': [[0, 8.22, 8.64, 0.75...</td>\n",
       "      <td>{64, 70, 43, 79, 16, 20, 86, 59, 60, 93}</td>\n",
       "      <td>350.18</td>\n",
       "      <td>5</td>\n",
       "    </tr>\n",
       "    <tr>\n",
       "      <th>8</th>\n",
       "      <td>{'n': 100, 'p': 10, 'd': [[0, 8.22, 8.64, 0.75...</td>\n",
       "      <td>{5, 70, 39, 8, 74, 43, 14, 79, 17, 60}</td>\n",
       "      <td>349.53</td>\n",
       "      <td>10</td>\n",
       "    </tr>\n",
       "    <tr>\n",
       "      <th>3</th>\n",
       "      <td>{'n': 100, 'p': 10, 'd': [[0, 8.22, 8.64, 0.75...</td>\n",
       "      <td>{66, 3, 78, 14, 15, 83, 53, 56, 61, 94}</td>\n",
       "      <td>349.45</td>\n",
       "      <td>9</td>\n",
       "    </tr>\n",
       "    <tr>\n",
       "      <th>241</th>\n",
       "      <td>{'n': 100, 'p': 10, 'd': [[0, 8.22, 8.64, 0.75...</td>\n",
       "      <td>{2, 98, 37, 60, 15, 16, 20, 86, 59, 93}</td>\n",
       "      <td>349.36</td>\n",
       "      <td>5</td>\n",
       "    </tr>\n",
       "    <tr>\n",
       "      <th>...</th>\n",
       "      <td>...</td>\n",
       "      <td>...</td>\n",
       "      <td>...</td>\n",
       "      <td>...</td>\n",
       "    </tr>\n",
       "    <tr>\n",
       "      <th>209</th>\n",
       "      <td>{'n': 100, 'p': 10, 'd': [[0, 8.22, 8.64, 0.75...</td>\n",
       "      <td>{1, 97, 6, 77, 80, 18, 52, 26, 61, 62}</td>\n",
       "      <td>317.90</td>\n",
       "      <td>10</td>\n",
       "    </tr>\n",
       "    <tr>\n",
       "      <th>418</th>\n",
       "      <td>{'n': 100, 'p': 10, 'd': [[0, 8.22, 8.64, 0.75...</td>\n",
       "      <td>{1, 97, 80, 18, 83, 20, 21, 87, 61, 95}</td>\n",
       "      <td>315.60</td>\n",
       "      <td>9</td>\n",
       "    </tr>\n",
       "    <tr>\n",
       "      <th>140</th>\n",
       "      <td>{'n': 100, 'p': 10, 'd': [[0, 8.22, 8.64, 0.75...</td>\n",
       "      <td>{66, 35, 38, 39, 75, 13, 48, 17, 19, 58}</td>\n",
       "      <td>315.28</td>\n",
       "      <td>9</td>\n",
       "    </tr>\n",
       "    <tr>\n",
       "      <th>397</th>\n",
       "      <td>{'n': 100, 'p': 10, 'd': [[0, 8.22, 8.64, 0.75...</td>\n",
       "      <td>{0, 9, 43, 78, 14, 79, 17, 24, 61, 94}</td>\n",
       "      <td>315.16</td>\n",
       "      <td>10</td>\n",
       "    </tr>\n",
       "    <tr>\n",
       "      <th>611</th>\n",
       "      <td>{'n': 100, 'p': 10, 'd': [[0, 8.22, 8.64, 0.75...</td>\n",
       "      <td>{0, 99, 8, 9, 43, 76, 47, 17, 24, 94}</td>\n",
       "      <td>310.87</td>\n",
       "      <td>10</td>\n",
       "    </tr>\n",
       "  </tbody>\n",
       "</table>\n",
       "<p>452 rows × 4 columns</p>\n",
       "</div>"
      ],
      "text/plain": [
       "                                              instance  \\\n",
       "75   {'n': 100, 'p': 10, 'd': [[0, 8.22, 8.64, 0.75...   \n",
       "126  {'n': 100, 'p': 10, 'd': [[0, 8.22, 8.64, 0.75...   \n",
       "8    {'n': 100, 'p': 10, 'd': [[0, 8.22, 8.64, 0.75...   \n",
       "3    {'n': 100, 'p': 10, 'd': [[0, 8.22, 8.64, 0.75...   \n",
       "241  {'n': 100, 'p': 10, 'd': [[0, 8.22, 8.64, 0.75...   \n",
       "..                                                 ...   \n",
       "209  {'n': 100, 'p': 10, 'd': [[0, 8.22, 8.64, 0.75...   \n",
       "418  {'n': 100, 'p': 10, 'd': [[0, 8.22, 8.64, 0.75...   \n",
       "140  {'n': 100, 'p': 10, 'd': [[0, 8.22, 8.64, 0.75...   \n",
       "397  {'n': 100, 'p': 10, 'd': [[0, 8.22, 8.64, 0.75...   \n",
       "611  {'n': 100, 'p': 10, 'd': [[0, 8.22, 8.64, 0.75...   \n",
       "\n",
       "                                          sol      of  n_distintos  \n",
       "75    {2, 98, 37, 90, 91, 12, 20, 26, 59, 63}  351.82            8  \n",
       "126  {64, 70, 43, 79, 16, 20, 86, 59, 60, 93}  350.18            5  \n",
       "8      {5, 70, 39, 8, 74, 43, 14, 79, 17, 60}  349.53           10  \n",
       "3     {66, 3, 78, 14, 15, 83, 53, 56, 61, 94}  349.45            9  \n",
       "241   {2, 98, 37, 60, 15, 16, 20, 86, 59, 93}  349.36            5  \n",
       "..                                        ...     ...          ...  \n",
       "209    {1, 97, 6, 77, 80, 18, 52, 26, 61, 62}  317.90           10  \n",
       "418   {1, 97, 80, 18, 83, 20, 21, 87, 61, 95}  315.60            9  \n",
       "140  {66, 35, 38, 39, 75, 13, 48, 17, 19, 58}  315.28            9  \n",
       "397    {0, 9, 43, 78, 14, 79, 17, 24, 61, 94}  315.16           10  \n",
       "611     {0, 99, 8, 9, 43, 76, 47, 17, 24, 94}  310.87           10  \n",
       "\n",
       "[452 rows x 4 columns]"
      ]
     },
     "execution_count": 69,
     "metadata": {},
     "output_type": "execute_result"
    }
   ],
   "source": [
    "sol_max = conjunto_soluciones_pd[conjunto_soluciones_pd[\"of\"] == max(conjunto_soluciones_pd[\"of\"])].iloc[0,1]\n",
    "conjunto_soluciones_pd[\"n_distintos\"] = conjunto_soluciones_pd[\"sol\"].map(lambda x: len(x.difference(sol_max)))\n",
    "conjunto_soluciones_pd[conjunto_soluciones_pd[\"n_distintos\"] > 0].sort_values(\"of\", ascending=False)"
   ]
  },
  {
   "cell_type": "markdown",
   "id": "61dd7368",
   "metadata": {},
   "source": [
    "A continuación, se realiza una implementación recursiva de Path Relinking entre dos soluciones específicas."
   ]
  },
  {
   "cell_type": "code",
   "execution_count": 70,
   "id": "b841e21a",
   "metadata": {},
   "outputs": [],
   "source": [
    "sol_0 = conjunto_soluciones[14]\n",
    "sol_1 = conjunto_soluciones[57]"
   ]
  },
  {
   "cell_type": "code",
   "execution_count": 71,
   "id": "4d3e6c6e",
   "metadata": {},
   "outputs": [
    {
     "name": "stdout",
     "output_type": "stream",
     "text": [
      "{66, 3, 11, 83, 53, 56, 92, 61, 94, 63}\n"
     ]
    }
   ],
   "source": [
    "def transicion(sol_0, sol_1):\n",
    "    best = None\n",
    "    resultado = 0\n",
    "    sol_2 = deepcopy(sol_0)\n",
    "    sol_guia = deepcopy(sol_1)\n",
    "    sol_guia[\"sol\"] = sol_guia[\"sol\"].difference(sol_0[\"sol\"])\n",
    "    for s0 in sol_0[\"sol\"]:\n",
    "        for s1 in sol_guia[\"sol\"]:\n",
    "            if s1 not in sol_0[\"sol\"]:\n",
    "                sol_2[\"sol\"].remove(s0)\n",
    "                sol_2[\"sol\"].add(s1)\n",
    "                sol_2[\"of\"] = evaluate(sol_2)\n",
    "                if best is None or sol_2[\"of\"] > best[\"of\"]:\n",
    "                    anyadido = s1\n",
    "                    best = deepcopy(sol_2)\n",
    "                sol_2[\"sol\"].remove(s1)\n",
    "                sol_2[\"sol\"].add(s0)\n",
    "    \n",
    "    sol_guia[\"sol\"].remove(anyadido)\n",
    "\n",
    "    if len(sol_guia[\"sol\"]) > 1:\n",
    "        resultado = transicion(best, sol_guia)\n",
    "\n",
    "        if resultado[\"of\"] < best[\"of\"]:\n",
    "            resultado = best\n",
    "    else:\n",
    "        print(best[\"sol\"])\n",
    "        resultado = best\n",
    "    \n",
    "\n",
    "    return resultado\n",
    "\n",
    "best = transicion(sol_0, sol_1)"
   ]
  },
  {
   "cell_type": "code",
   "execution_count": 72,
   "id": "5968f17b",
   "metadata": {},
   "outputs": [
    {
     "data": {
      "text/plain": [
       "337.9800000000001"
      ]
     },
     "execution_count": 72,
     "metadata": {},
     "output_type": "execute_result"
    }
   ],
   "source": [
    "best[\"of\"]"
   ]
  },
  {
   "cell_type": "code",
   "execution_count": 73,
   "id": "43a33463",
   "metadata": {},
   "outputs": [
    {
     "data": {
      "text/plain": [
       "330.04"
      ]
     },
     "execution_count": 73,
     "metadata": {},
     "output_type": "execute_result"
    }
   ],
   "source": [
    "sol_0[\"of\"]"
   ]
  },
  {
   "cell_type": "code",
   "execution_count": 74,
   "id": "61838372",
   "metadata": {},
   "outputs": [
    {
     "data": {
      "text/plain": [
       "{3, 10, 14, 53, 56, 61, 63, 66, 83, 94}"
      ]
     },
     "execution_count": 74,
     "metadata": {},
     "output_type": "execute_result"
    }
   ],
   "source": [
    "sol_1[\"sol\"]"
   ]
  },
  {
   "cell_type": "markdown",
   "id": "0adfb164",
   "metadata": {},
   "source": [
    "### Opción para el Path Relinking"
   ]
  },
  {
   "cell_type": "markdown",
   "id": "0e7fa914",
   "metadata": {},
   "source": [
    "La siguiente función es la versión final y general de PR paso a paso."
   ]
  },
  {
   "cell_type": "code",
   "execution_count": 75,
   "id": "92888156",
   "metadata": {},
   "outputs": [],
   "source": [
    "def relink(inicio, guia):\n",
    "    current = deepcopy(inicio)\n",
    "    best = deepcopy(inicio)\n",
    "\n",
    "    to_add = guia[\"sol\"] - current[\"sol\"]\n",
    "    to_remove = current[\"sol\"] - guia[\"sol\"]\n",
    "\n",
    "    while to_add:\n",
    "        vecinos = []\n",
    "        for a in to_add:\n",
    "            for r in to_remove:\n",
    "                nuevo = deepcopy(current)\n",
    "                nuevo[\"sol\"].remove(r)\n",
    "                nuevo[\"sol\"].add(a)\n",
    "                nuevo[\"of\"] = evaluate(nuevo)\n",
    "                vecinos.append(nuevo)\n",
    "        if not vecinos:\n",
    "            break\n",
    "        current = max(vecinos, key=lambda s: s[\"of\"])\n",
    "        if current[\"of\"] > best[\"of\"]:\n",
    "            best = deepcopy(current)\n",
    "\n",
    "        to_add = guia[\"sol\"] - current[\"sol\"]\n",
    "        to_remove = current[\"sol\"] - guia[\"sol\"]\n",
    "\n",
    "    return best\n"
   ]
  },
  {
   "cell_type": "markdown",
   "id": "fc807b70",
   "metadata": {},
   "source": [
    "Ahora se busca ejecutar PR entre todos los pares del conjunto élite. Mostramos cuáles son las mejores soluciones sin repetir y la mejor que encuentra."
   ]
  },
  {
   "cell_type": "code",
   "execution_count": 78,
   "id": "c85bbdf9",
   "metadata": {},
   "outputs": [
    {
     "name": "stdout",
     "output_type": "stream",
     "text": [
      "Mejor solución encontrada por Path Relinking:\n",
      "Conjunto: {64, 96, 13, 15, 51, 20, 86, 55, 59, 93}\n",
      "Valor objetivo: 354.24999999999994\n",
      "\n",
      "Top 5 soluciones PR:\n",
      "                                             instance  \\\n",
      "0   {'n': 100, 'p': 10, 'd': [[0, 8.22, 8.64, 0.75...   \n",
      "18  {'n': 100, 'p': 10, 'd': [[0, 8.22, 8.64, 0.75...   \n",
      "34  {'n': 100, 'p': 10, 'd': [[0, 8.22, 8.64, 0.75...   \n",
      "48  {'n': 100, 'p': 10, 'd': [[0, 8.22, 8.64, 0.75...   \n",
      "60  {'n': 100, 'p': 10, 'd': [[0, 8.22, 8.64, 0.75...   \n",
      "\n",
      "                                         sol      of  n_distintos  \n",
      "0   {64, 96, 13, 15, 51, 20, 86, 55, 59, 93}  354.25            0  \n",
      "18   {2, 98, 26, 37, 59, 12, 20, 90, 91, 63}  351.82            8  \n",
      "34  {64, 70, 43, 79, 16, 20, 86, 59, 60, 93}  350.18            5  \n",
      "48    {5, 70, 39, 8, 74, 43, 14, 79, 17, 60}  349.53           10  \n",
      "60   {66, 3, 78, 15, 14, 83, 53, 56, 61, 94}  349.45            9  \n",
      "\n",
      "Total de soluciones generadas mediante PR: 9\n"
     ]
    }
   ],
   "source": [
    "# Seleccionamos las x mejores soluciones distintas (se puede modificar el nº de soluciones que se toman)\n",
    "n_soluciones = 10\n",
    "elite_df = conjunto_soluciones_pd.sort_values(\"of\", ascending=False).drop_duplicates(\"sol\").head(n_soluciones)\n",
    "elite_solutions = elite_df.to_dict(\"records\")\n",
    "\n",
    "# Aplicamos Path Relinking entre todos los pares de soluciones\n",
    "soluciones_pr = []\n",
    "mejor_pr = None\n",
    "for i in range(len(elite_solutions)):\n",
    "    for j in range(i+1, len(elite_solutions)):\n",
    "        s1 = elite_solutions[i]\n",
    "        s2 = elite_solutions[j]\n",
    "        pr1 = relink(s1, s2)\n",
    "        pr2 = relink(s2, s1)\n",
    "        soluciones_pr.extend([pr1, pr2])\n",
    "        for cand in [pr1, pr2]:\n",
    "            if mejor_pr is None or cand[\"of\"] > mejor_pr[\"of\"]:\n",
    "                mejor_pr = cand\n",
    "\n",
    "# Mostramos la mejor solución obtenida por Path Relinking\n",
    "print(\"Mejor solución encontrada por Path Relinking:\")\n",
    "print(\"Conjunto:\", mejor_pr[\"sol\"])\n",
    "print(\"Valor objetivo:\", mejor_pr[\"of\"])\n",
    "\n",
    "# Convertimos a DataFrame para análisis posterior\n",
    "df_pr = pd.DataFrame(soluciones_pr).drop_duplicates(subset=\"sol\")\n",
    "print(\"\\nTop 5 soluciones PR:\")\n",
    "print(df_pr.sort_values(\"of\", ascending=False).head(5))\n",
    "\n",
    "print(f\"\\nTotal de soluciones generadas mediante PR: {len(df_pr)}\")\n"
   ]
  }
 ],
 "metadata": {
  "kernelspec": {
   "display_name": "base",
   "language": "python",
   "name": "python3"
  },
  "language_info": {
   "codemirror_mode": {
    "name": "ipython",
    "version": 3
   },
   "file_extension": ".py",
   "mimetype": "text/x-python",
   "name": "python",
   "nbconvert_exporter": "python",
   "pygments_lexer": "ipython3",
   "version": "3.12.3"
  }
 },
 "nbformat": 4,
 "nbformat_minor": 5
}
